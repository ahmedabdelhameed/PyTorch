{
  "nbformat": 4,
  "nbformat_minor": 0,
  "metadata": {
    "colab": {
      "name": "MLP_MINIST_Classification.ipynb",
      "provenance": [],
      "collapsed_sections": [],
      "authorship_tag": "ABX9TyPoFJPF+lLRxVTORfch+gCi",
      "include_colab_link": true
    },
    "kernelspec": {
      "name": "python3",
      "display_name": "Python 3"
    },
    "accelerator": "GPU",
    "widgets": {
      "application/vnd.jupyter.widget-state+json": {
        "c796261460fd41d4aedc8b735853841a": {
          "model_module": "@jupyter-widgets/controls",
          "model_name": "HBoxModel",
          "state": {
            "_view_name": "HBoxView",
            "_dom_classes": [],
            "_model_name": "HBoxModel",
            "_view_module": "@jupyter-widgets/controls",
            "_model_module_version": "1.5.0",
            "_view_count": null,
            "_view_module_version": "1.5.0",
            "box_style": "",
            "layout": "IPY_MODEL_7e2ac6d74a4f4eb193e3e4bc8c0ade4c",
            "_model_module": "@jupyter-widgets/controls",
            "children": [
              "IPY_MODEL_6eb38a2162884e3ea3dd445fe89b93e7",
              "IPY_MODEL_6f6c4d8d0a2141dc8dad4580d6d7d327"
            ]
          }
        },
        "7e2ac6d74a4f4eb193e3e4bc8c0ade4c": {
          "model_module": "@jupyter-widgets/base",
          "model_name": "LayoutModel",
          "state": {
            "_view_name": "LayoutView",
            "grid_template_rows": null,
            "right": null,
            "justify_content": null,
            "_view_module": "@jupyter-widgets/base",
            "overflow": null,
            "_model_module_version": "1.2.0",
            "_view_count": null,
            "flex_flow": null,
            "width": null,
            "min_width": null,
            "border": null,
            "align_items": null,
            "bottom": null,
            "_model_module": "@jupyter-widgets/base",
            "top": null,
            "grid_column": null,
            "overflow_y": null,
            "overflow_x": null,
            "grid_auto_flow": null,
            "grid_area": null,
            "grid_template_columns": null,
            "flex": null,
            "_model_name": "LayoutModel",
            "justify_items": null,
            "grid_row": null,
            "max_height": null,
            "align_content": null,
            "visibility": null,
            "align_self": null,
            "height": null,
            "min_height": null,
            "padding": null,
            "grid_auto_rows": null,
            "grid_gap": null,
            "max_width": null,
            "order": null,
            "_view_module_version": "1.2.0",
            "grid_template_areas": null,
            "object_position": null,
            "object_fit": null,
            "grid_auto_columns": null,
            "margin": null,
            "display": null,
            "left": null
          }
        },
        "6eb38a2162884e3ea3dd445fe89b93e7": {
          "model_module": "@jupyter-widgets/controls",
          "model_name": "FloatProgressModel",
          "state": {
            "_view_name": "ProgressView",
            "style": "IPY_MODEL_4db2b884e7924cf69af1e76d42fbc4ce",
            "_dom_classes": [],
            "description": "",
            "_model_name": "FloatProgressModel",
            "bar_style": "info",
            "max": 1,
            "_view_module": "@jupyter-widgets/controls",
            "_model_module_version": "1.5.0",
            "value": 1,
            "_view_count": null,
            "_view_module_version": "1.5.0",
            "orientation": "horizontal",
            "min": 0,
            "description_tooltip": null,
            "_model_module": "@jupyter-widgets/controls",
            "layout": "IPY_MODEL_be1ffa9c2fc144908afeb552bb54a2f4"
          }
        },
        "6f6c4d8d0a2141dc8dad4580d6d7d327": {
          "model_module": "@jupyter-widgets/controls",
          "model_name": "HTMLModel",
          "state": {
            "_view_name": "HTMLView",
            "style": "IPY_MODEL_8a76d1ab351a4e5a802ab0d4f224414e",
            "_dom_classes": [],
            "description": "",
            "_model_name": "HTMLModel",
            "placeholder": "​",
            "_view_module": "@jupyter-widgets/controls",
            "_model_module_version": "1.5.0",
            "value": " 9920512/? [00:30&lt;00:00, 924673.56it/s]",
            "_view_count": null,
            "_view_module_version": "1.5.0",
            "description_tooltip": null,
            "_model_module": "@jupyter-widgets/controls",
            "layout": "IPY_MODEL_a4b3c0c49f8e47f78e97f64fb6bed343"
          }
        },
        "4db2b884e7924cf69af1e76d42fbc4ce": {
          "model_module": "@jupyter-widgets/controls",
          "model_name": "ProgressStyleModel",
          "state": {
            "_view_name": "StyleView",
            "_model_name": "ProgressStyleModel",
            "description_width": "initial",
            "_view_module": "@jupyter-widgets/base",
            "_model_module_version": "1.5.0",
            "_view_count": null,
            "_view_module_version": "1.2.0",
            "bar_color": null,
            "_model_module": "@jupyter-widgets/controls"
          }
        },
        "be1ffa9c2fc144908afeb552bb54a2f4": {
          "model_module": "@jupyter-widgets/base",
          "model_name": "LayoutModel",
          "state": {
            "_view_name": "LayoutView",
            "grid_template_rows": null,
            "right": null,
            "justify_content": null,
            "_view_module": "@jupyter-widgets/base",
            "overflow": null,
            "_model_module_version": "1.2.0",
            "_view_count": null,
            "flex_flow": null,
            "width": null,
            "min_width": null,
            "border": null,
            "align_items": null,
            "bottom": null,
            "_model_module": "@jupyter-widgets/base",
            "top": null,
            "grid_column": null,
            "overflow_y": null,
            "overflow_x": null,
            "grid_auto_flow": null,
            "grid_area": null,
            "grid_template_columns": null,
            "flex": null,
            "_model_name": "LayoutModel",
            "justify_items": null,
            "grid_row": null,
            "max_height": null,
            "align_content": null,
            "visibility": null,
            "align_self": null,
            "height": null,
            "min_height": null,
            "padding": null,
            "grid_auto_rows": null,
            "grid_gap": null,
            "max_width": null,
            "order": null,
            "_view_module_version": "1.2.0",
            "grid_template_areas": null,
            "object_position": null,
            "object_fit": null,
            "grid_auto_columns": null,
            "margin": null,
            "display": null,
            "left": null
          }
        },
        "8a76d1ab351a4e5a802ab0d4f224414e": {
          "model_module": "@jupyter-widgets/controls",
          "model_name": "DescriptionStyleModel",
          "state": {
            "_view_name": "StyleView",
            "_model_name": "DescriptionStyleModel",
            "description_width": "",
            "_view_module": "@jupyter-widgets/base",
            "_model_module_version": "1.5.0",
            "_view_count": null,
            "_view_module_version": "1.2.0",
            "_model_module": "@jupyter-widgets/controls"
          }
        },
        "a4b3c0c49f8e47f78e97f64fb6bed343": {
          "model_module": "@jupyter-widgets/base",
          "model_name": "LayoutModel",
          "state": {
            "_view_name": "LayoutView",
            "grid_template_rows": null,
            "right": null,
            "justify_content": null,
            "_view_module": "@jupyter-widgets/base",
            "overflow": null,
            "_model_module_version": "1.2.0",
            "_view_count": null,
            "flex_flow": null,
            "width": null,
            "min_width": null,
            "border": null,
            "align_items": null,
            "bottom": null,
            "_model_module": "@jupyter-widgets/base",
            "top": null,
            "grid_column": null,
            "overflow_y": null,
            "overflow_x": null,
            "grid_auto_flow": null,
            "grid_area": null,
            "grid_template_columns": null,
            "flex": null,
            "_model_name": "LayoutModel",
            "justify_items": null,
            "grid_row": null,
            "max_height": null,
            "align_content": null,
            "visibility": null,
            "align_self": null,
            "height": null,
            "min_height": null,
            "padding": null,
            "grid_auto_rows": null,
            "grid_gap": null,
            "max_width": null,
            "order": null,
            "_view_module_version": "1.2.0",
            "grid_template_areas": null,
            "object_position": null,
            "object_fit": null,
            "grid_auto_columns": null,
            "margin": null,
            "display": null,
            "left": null
          }
        },
        "9c7a92043e3b4e2c99f485c2079c2664": {
          "model_module": "@jupyter-widgets/controls",
          "model_name": "HBoxModel",
          "state": {
            "_view_name": "HBoxView",
            "_dom_classes": [],
            "_model_name": "HBoxModel",
            "_view_module": "@jupyter-widgets/controls",
            "_model_module_version": "1.5.0",
            "_view_count": null,
            "_view_module_version": "1.5.0",
            "box_style": "",
            "layout": "IPY_MODEL_09b22c1661b1430198e9ae74e5182477",
            "_model_module": "@jupyter-widgets/controls",
            "children": [
              "IPY_MODEL_9032a1b2c6cf484a80bcd023f8213e8a",
              "IPY_MODEL_4d62aecf950040eb86537fb539251b15"
            ]
          }
        },
        "09b22c1661b1430198e9ae74e5182477": {
          "model_module": "@jupyter-widgets/base",
          "model_name": "LayoutModel",
          "state": {
            "_view_name": "LayoutView",
            "grid_template_rows": null,
            "right": null,
            "justify_content": null,
            "_view_module": "@jupyter-widgets/base",
            "overflow": null,
            "_model_module_version": "1.2.0",
            "_view_count": null,
            "flex_flow": null,
            "width": null,
            "min_width": null,
            "border": null,
            "align_items": null,
            "bottom": null,
            "_model_module": "@jupyter-widgets/base",
            "top": null,
            "grid_column": null,
            "overflow_y": null,
            "overflow_x": null,
            "grid_auto_flow": null,
            "grid_area": null,
            "grid_template_columns": null,
            "flex": null,
            "_model_name": "LayoutModel",
            "justify_items": null,
            "grid_row": null,
            "max_height": null,
            "align_content": null,
            "visibility": null,
            "align_self": null,
            "height": null,
            "min_height": null,
            "padding": null,
            "grid_auto_rows": null,
            "grid_gap": null,
            "max_width": null,
            "order": null,
            "_view_module_version": "1.2.0",
            "grid_template_areas": null,
            "object_position": null,
            "object_fit": null,
            "grid_auto_columns": null,
            "margin": null,
            "display": null,
            "left": null
          }
        },
        "9032a1b2c6cf484a80bcd023f8213e8a": {
          "model_module": "@jupyter-widgets/controls",
          "model_name": "FloatProgressModel",
          "state": {
            "_view_name": "ProgressView",
            "style": "IPY_MODEL_ea79c071daac41b6a041702168fa14c1",
            "_dom_classes": [],
            "description": "",
            "_model_name": "FloatProgressModel",
            "bar_style": "success",
            "max": 1,
            "_view_module": "@jupyter-widgets/controls",
            "_model_module_version": "1.5.0",
            "value": 1,
            "_view_count": null,
            "_view_module_version": "1.5.0",
            "orientation": "horizontal",
            "min": 0,
            "description_tooltip": null,
            "_model_module": "@jupyter-widgets/controls",
            "layout": "IPY_MODEL_f8a5bc37ecb24a8e947a98da22b40d1e"
          }
        },
        "4d62aecf950040eb86537fb539251b15": {
          "model_module": "@jupyter-widgets/controls",
          "model_name": "HTMLModel",
          "state": {
            "_view_name": "HTMLView",
            "style": "IPY_MODEL_5fa22e9cae274eb997c0574e56152720",
            "_dom_classes": [],
            "description": "",
            "_model_name": "HTMLModel",
            "placeholder": "​",
            "_view_module": "@jupyter-widgets/controls",
            "_model_module_version": "1.5.0",
            "value": " 32768/? [00:03&lt;00:00, 9831.38it/s]",
            "_view_count": null,
            "_view_module_version": "1.5.0",
            "description_tooltip": null,
            "_model_module": "@jupyter-widgets/controls",
            "layout": "IPY_MODEL_832fa8e368024e5487fd8a2d6c57c6f6"
          }
        },
        "ea79c071daac41b6a041702168fa14c1": {
          "model_module": "@jupyter-widgets/controls",
          "model_name": "ProgressStyleModel",
          "state": {
            "_view_name": "StyleView",
            "_model_name": "ProgressStyleModel",
            "description_width": "initial",
            "_view_module": "@jupyter-widgets/base",
            "_model_module_version": "1.5.0",
            "_view_count": null,
            "_view_module_version": "1.2.0",
            "bar_color": null,
            "_model_module": "@jupyter-widgets/controls"
          }
        },
        "f8a5bc37ecb24a8e947a98da22b40d1e": {
          "model_module": "@jupyter-widgets/base",
          "model_name": "LayoutModel",
          "state": {
            "_view_name": "LayoutView",
            "grid_template_rows": null,
            "right": null,
            "justify_content": null,
            "_view_module": "@jupyter-widgets/base",
            "overflow": null,
            "_model_module_version": "1.2.0",
            "_view_count": null,
            "flex_flow": null,
            "width": null,
            "min_width": null,
            "border": null,
            "align_items": null,
            "bottom": null,
            "_model_module": "@jupyter-widgets/base",
            "top": null,
            "grid_column": null,
            "overflow_y": null,
            "overflow_x": null,
            "grid_auto_flow": null,
            "grid_area": null,
            "grid_template_columns": null,
            "flex": null,
            "_model_name": "LayoutModel",
            "justify_items": null,
            "grid_row": null,
            "max_height": null,
            "align_content": null,
            "visibility": null,
            "align_self": null,
            "height": null,
            "min_height": null,
            "padding": null,
            "grid_auto_rows": null,
            "grid_gap": null,
            "max_width": null,
            "order": null,
            "_view_module_version": "1.2.0",
            "grid_template_areas": null,
            "object_position": null,
            "object_fit": null,
            "grid_auto_columns": null,
            "margin": null,
            "display": null,
            "left": null
          }
        },
        "5fa22e9cae274eb997c0574e56152720": {
          "model_module": "@jupyter-widgets/controls",
          "model_name": "DescriptionStyleModel",
          "state": {
            "_view_name": "StyleView",
            "_model_name": "DescriptionStyleModel",
            "description_width": "",
            "_view_module": "@jupyter-widgets/base",
            "_model_module_version": "1.5.0",
            "_view_count": null,
            "_view_module_version": "1.2.0",
            "_model_module": "@jupyter-widgets/controls"
          }
        },
        "832fa8e368024e5487fd8a2d6c57c6f6": {
          "model_module": "@jupyter-widgets/base",
          "model_name": "LayoutModel",
          "state": {
            "_view_name": "LayoutView",
            "grid_template_rows": null,
            "right": null,
            "justify_content": null,
            "_view_module": "@jupyter-widgets/base",
            "overflow": null,
            "_model_module_version": "1.2.0",
            "_view_count": null,
            "flex_flow": null,
            "width": null,
            "min_width": null,
            "border": null,
            "align_items": null,
            "bottom": null,
            "_model_module": "@jupyter-widgets/base",
            "top": null,
            "grid_column": null,
            "overflow_y": null,
            "overflow_x": null,
            "grid_auto_flow": null,
            "grid_area": null,
            "grid_template_columns": null,
            "flex": null,
            "_model_name": "LayoutModel",
            "justify_items": null,
            "grid_row": null,
            "max_height": null,
            "align_content": null,
            "visibility": null,
            "align_self": null,
            "height": null,
            "min_height": null,
            "padding": null,
            "grid_auto_rows": null,
            "grid_gap": null,
            "max_width": null,
            "order": null,
            "_view_module_version": "1.2.0",
            "grid_template_areas": null,
            "object_position": null,
            "object_fit": null,
            "grid_auto_columns": null,
            "margin": null,
            "display": null,
            "left": null
          }
        },
        "4fd1d7615dce418d97f74fbc589bb9b3": {
          "model_module": "@jupyter-widgets/controls",
          "model_name": "HBoxModel",
          "state": {
            "_view_name": "HBoxView",
            "_dom_classes": [],
            "_model_name": "HBoxModel",
            "_view_module": "@jupyter-widgets/controls",
            "_model_module_version": "1.5.0",
            "_view_count": null,
            "_view_module_version": "1.5.0",
            "box_style": "",
            "layout": "IPY_MODEL_19c408af39374bdfa9c99d3d8dfaa43e",
            "_model_module": "@jupyter-widgets/controls",
            "children": [
              "IPY_MODEL_fd780a14d24f483ea07d6d7182e13ba3",
              "IPY_MODEL_f08e07d4ed7841728089a72fb64106d1"
            ]
          }
        },
        "19c408af39374bdfa9c99d3d8dfaa43e": {
          "model_module": "@jupyter-widgets/base",
          "model_name": "LayoutModel",
          "state": {
            "_view_name": "LayoutView",
            "grid_template_rows": null,
            "right": null,
            "justify_content": null,
            "_view_module": "@jupyter-widgets/base",
            "overflow": null,
            "_model_module_version": "1.2.0",
            "_view_count": null,
            "flex_flow": null,
            "width": null,
            "min_width": null,
            "border": null,
            "align_items": null,
            "bottom": null,
            "_model_module": "@jupyter-widgets/base",
            "top": null,
            "grid_column": null,
            "overflow_y": null,
            "overflow_x": null,
            "grid_auto_flow": null,
            "grid_area": null,
            "grid_template_columns": null,
            "flex": null,
            "_model_name": "LayoutModel",
            "justify_items": null,
            "grid_row": null,
            "max_height": null,
            "align_content": null,
            "visibility": null,
            "align_self": null,
            "height": null,
            "min_height": null,
            "padding": null,
            "grid_auto_rows": null,
            "grid_gap": null,
            "max_width": null,
            "order": null,
            "_view_module_version": "1.2.0",
            "grid_template_areas": null,
            "object_position": null,
            "object_fit": null,
            "grid_auto_columns": null,
            "margin": null,
            "display": null,
            "left": null
          }
        },
        "fd780a14d24f483ea07d6d7182e13ba3": {
          "model_module": "@jupyter-widgets/controls",
          "model_name": "FloatProgressModel",
          "state": {
            "_view_name": "ProgressView",
            "style": "IPY_MODEL_1ca7021318074da6a31bb7e10e9e384d",
            "_dom_classes": [],
            "description": "",
            "_model_name": "FloatProgressModel",
            "bar_style": "success",
            "max": 1,
            "_view_module": "@jupyter-widgets/controls",
            "_model_module_version": "1.5.0",
            "value": 1,
            "_view_count": null,
            "_view_module_version": "1.5.0",
            "orientation": "horizontal",
            "min": 0,
            "description_tooltip": null,
            "_model_module": "@jupyter-widgets/controls",
            "layout": "IPY_MODEL_7b0e572e92f84a6eb8c1de70df6ba32a"
          }
        },
        "f08e07d4ed7841728089a72fb64106d1": {
          "model_module": "@jupyter-widgets/controls",
          "model_name": "HTMLModel",
          "state": {
            "_view_name": "HTMLView",
            "style": "IPY_MODEL_933b83a7faaa479b9d196584bb7b7dff",
            "_dom_classes": [],
            "description": "",
            "_model_name": "HTMLModel",
            "placeholder": "​",
            "_view_module": "@jupyter-widgets/controls",
            "_model_module_version": "1.5.0",
            "value": " 1654784/? [00:02&lt;00:00, 616286.05it/s]",
            "_view_count": null,
            "_view_module_version": "1.5.0",
            "description_tooltip": null,
            "_model_module": "@jupyter-widgets/controls",
            "layout": "IPY_MODEL_5ea4d70ea26a4192816badde681c121e"
          }
        },
        "1ca7021318074da6a31bb7e10e9e384d": {
          "model_module": "@jupyter-widgets/controls",
          "model_name": "ProgressStyleModel",
          "state": {
            "_view_name": "StyleView",
            "_model_name": "ProgressStyleModel",
            "description_width": "initial",
            "_view_module": "@jupyter-widgets/base",
            "_model_module_version": "1.5.0",
            "_view_count": null,
            "_view_module_version": "1.2.0",
            "bar_color": null,
            "_model_module": "@jupyter-widgets/controls"
          }
        },
        "7b0e572e92f84a6eb8c1de70df6ba32a": {
          "model_module": "@jupyter-widgets/base",
          "model_name": "LayoutModel",
          "state": {
            "_view_name": "LayoutView",
            "grid_template_rows": null,
            "right": null,
            "justify_content": null,
            "_view_module": "@jupyter-widgets/base",
            "overflow": null,
            "_model_module_version": "1.2.0",
            "_view_count": null,
            "flex_flow": null,
            "width": null,
            "min_width": null,
            "border": null,
            "align_items": null,
            "bottom": null,
            "_model_module": "@jupyter-widgets/base",
            "top": null,
            "grid_column": null,
            "overflow_y": null,
            "overflow_x": null,
            "grid_auto_flow": null,
            "grid_area": null,
            "grid_template_columns": null,
            "flex": null,
            "_model_name": "LayoutModel",
            "justify_items": null,
            "grid_row": null,
            "max_height": null,
            "align_content": null,
            "visibility": null,
            "align_self": null,
            "height": null,
            "min_height": null,
            "padding": null,
            "grid_auto_rows": null,
            "grid_gap": null,
            "max_width": null,
            "order": null,
            "_view_module_version": "1.2.0",
            "grid_template_areas": null,
            "object_position": null,
            "object_fit": null,
            "grid_auto_columns": null,
            "margin": null,
            "display": null,
            "left": null
          }
        },
        "933b83a7faaa479b9d196584bb7b7dff": {
          "model_module": "@jupyter-widgets/controls",
          "model_name": "DescriptionStyleModel",
          "state": {
            "_view_name": "StyleView",
            "_model_name": "DescriptionStyleModel",
            "description_width": "",
            "_view_module": "@jupyter-widgets/base",
            "_model_module_version": "1.5.0",
            "_view_count": null,
            "_view_module_version": "1.2.0",
            "_model_module": "@jupyter-widgets/controls"
          }
        },
        "5ea4d70ea26a4192816badde681c121e": {
          "model_module": "@jupyter-widgets/base",
          "model_name": "LayoutModel",
          "state": {
            "_view_name": "LayoutView",
            "grid_template_rows": null,
            "right": null,
            "justify_content": null,
            "_view_module": "@jupyter-widgets/base",
            "overflow": null,
            "_model_module_version": "1.2.0",
            "_view_count": null,
            "flex_flow": null,
            "width": null,
            "min_width": null,
            "border": null,
            "align_items": null,
            "bottom": null,
            "_model_module": "@jupyter-widgets/base",
            "top": null,
            "grid_column": null,
            "overflow_y": null,
            "overflow_x": null,
            "grid_auto_flow": null,
            "grid_area": null,
            "grid_template_columns": null,
            "flex": null,
            "_model_name": "LayoutModel",
            "justify_items": null,
            "grid_row": null,
            "max_height": null,
            "align_content": null,
            "visibility": null,
            "align_self": null,
            "height": null,
            "min_height": null,
            "padding": null,
            "grid_auto_rows": null,
            "grid_gap": null,
            "max_width": null,
            "order": null,
            "_view_module_version": "1.2.0",
            "grid_template_areas": null,
            "object_position": null,
            "object_fit": null,
            "grid_auto_columns": null,
            "margin": null,
            "display": null,
            "left": null
          }
        },
        "b7ab4c0ad0d7479f880e733c14677a19": {
          "model_module": "@jupyter-widgets/controls",
          "model_name": "HBoxModel",
          "state": {
            "_view_name": "HBoxView",
            "_dom_classes": [],
            "_model_name": "HBoxModel",
            "_view_module": "@jupyter-widgets/controls",
            "_model_module_version": "1.5.0",
            "_view_count": null,
            "_view_module_version": "1.5.0",
            "box_style": "",
            "layout": "IPY_MODEL_fb209e4d576e4fdd90def036c888b27d",
            "_model_module": "@jupyter-widgets/controls",
            "children": [
              "IPY_MODEL_d890b08cf4f34c179e59e55d0fea9b00",
              "IPY_MODEL_5b048ea9c39b42259f69c12fc1c425c8"
            ]
          }
        },
        "fb209e4d576e4fdd90def036c888b27d": {
          "model_module": "@jupyter-widgets/base",
          "model_name": "LayoutModel",
          "state": {
            "_view_name": "LayoutView",
            "grid_template_rows": null,
            "right": null,
            "justify_content": null,
            "_view_module": "@jupyter-widgets/base",
            "overflow": null,
            "_model_module_version": "1.2.0",
            "_view_count": null,
            "flex_flow": null,
            "width": null,
            "min_width": null,
            "border": null,
            "align_items": null,
            "bottom": null,
            "_model_module": "@jupyter-widgets/base",
            "top": null,
            "grid_column": null,
            "overflow_y": null,
            "overflow_x": null,
            "grid_auto_flow": null,
            "grid_area": null,
            "grid_template_columns": null,
            "flex": null,
            "_model_name": "LayoutModel",
            "justify_items": null,
            "grid_row": null,
            "max_height": null,
            "align_content": null,
            "visibility": null,
            "align_self": null,
            "height": null,
            "min_height": null,
            "padding": null,
            "grid_auto_rows": null,
            "grid_gap": null,
            "max_width": null,
            "order": null,
            "_view_module_version": "1.2.0",
            "grid_template_areas": null,
            "object_position": null,
            "object_fit": null,
            "grid_auto_columns": null,
            "margin": null,
            "display": null,
            "left": null
          }
        },
        "d890b08cf4f34c179e59e55d0fea9b00": {
          "model_module": "@jupyter-widgets/controls",
          "model_name": "FloatProgressModel",
          "state": {
            "_view_name": "ProgressView",
            "style": "IPY_MODEL_00a41cd1461a41ebbe9ace44e4158621",
            "_dom_classes": [],
            "description": "  0%",
            "_model_name": "FloatProgressModel",
            "bar_style": "info",
            "max": 1,
            "_view_module": "@jupyter-widgets/controls",
            "_model_module_version": "1.5.0",
            "value": 0,
            "_view_count": null,
            "_view_module_version": "1.5.0",
            "orientation": "horizontal",
            "min": 0,
            "description_tooltip": null,
            "_model_module": "@jupyter-widgets/controls",
            "layout": "IPY_MODEL_2b5e7644412a45df87d0f03df67bb6a4"
          }
        },
        "5b048ea9c39b42259f69c12fc1c425c8": {
          "model_module": "@jupyter-widgets/controls",
          "model_name": "HTMLModel",
          "state": {
            "_view_name": "HTMLView",
            "style": "IPY_MODEL_8bad3afd353c47c68102d9c7c4a47cb1",
            "_dom_classes": [],
            "description": "",
            "_model_name": "HTMLModel",
            "placeholder": "​",
            "_view_module": "@jupyter-widgets/controls",
            "_model_module_version": "1.5.0",
            "value": " 0/4542 [00:00&lt;?, ?it/s]",
            "_view_count": null,
            "_view_module_version": "1.5.0",
            "description_tooltip": null,
            "_model_module": "@jupyter-widgets/controls",
            "layout": "IPY_MODEL_5a0075f6805544409ff90d66cf9ca97f"
          }
        },
        "00a41cd1461a41ebbe9ace44e4158621": {
          "model_module": "@jupyter-widgets/controls",
          "model_name": "ProgressStyleModel",
          "state": {
            "_view_name": "StyleView",
            "_model_name": "ProgressStyleModel",
            "description_width": "initial",
            "_view_module": "@jupyter-widgets/base",
            "_model_module_version": "1.5.0",
            "_view_count": null,
            "_view_module_version": "1.2.0",
            "bar_color": null,
            "_model_module": "@jupyter-widgets/controls"
          }
        },
        "2b5e7644412a45df87d0f03df67bb6a4": {
          "model_module": "@jupyter-widgets/base",
          "model_name": "LayoutModel",
          "state": {
            "_view_name": "LayoutView",
            "grid_template_rows": null,
            "right": null,
            "justify_content": null,
            "_view_module": "@jupyter-widgets/base",
            "overflow": null,
            "_model_module_version": "1.2.0",
            "_view_count": null,
            "flex_flow": null,
            "width": null,
            "min_width": null,
            "border": null,
            "align_items": null,
            "bottom": null,
            "_model_module": "@jupyter-widgets/base",
            "top": null,
            "grid_column": null,
            "overflow_y": null,
            "overflow_x": null,
            "grid_auto_flow": null,
            "grid_area": null,
            "grid_template_columns": null,
            "flex": null,
            "_model_name": "LayoutModel",
            "justify_items": null,
            "grid_row": null,
            "max_height": null,
            "align_content": null,
            "visibility": null,
            "align_self": null,
            "height": null,
            "min_height": null,
            "padding": null,
            "grid_auto_rows": null,
            "grid_gap": null,
            "max_width": null,
            "order": null,
            "_view_module_version": "1.2.0",
            "grid_template_areas": null,
            "object_position": null,
            "object_fit": null,
            "grid_auto_columns": null,
            "margin": null,
            "display": null,
            "left": null
          }
        },
        "8bad3afd353c47c68102d9c7c4a47cb1": {
          "model_module": "@jupyter-widgets/controls",
          "model_name": "DescriptionStyleModel",
          "state": {
            "_view_name": "StyleView",
            "_model_name": "DescriptionStyleModel",
            "description_width": "",
            "_view_module": "@jupyter-widgets/base",
            "_model_module_version": "1.5.0",
            "_view_count": null,
            "_view_module_version": "1.2.0",
            "_model_module": "@jupyter-widgets/controls"
          }
        },
        "5a0075f6805544409ff90d66cf9ca97f": {
          "model_module": "@jupyter-widgets/base",
          "model_name": "LayoutModel",
          "state": {
            "_view_name": "LayoutView",
            "grid_template_rows": null,
            "right": null,
            "justify_content": null,
            "_view_module": "@jupyter-widgets/base",
            "overflow": null,
            "_model_module_version": "1.2.0",
            "_view_count": null,
            "flex_flow": null,
            "width": null,
            "min_width": null,
            "border": null,
            "align_items": null,
            "bottom": null,
            "_model_module": "@jupyter-widgets/base",
            "top": null,
            "grid_column": null,
            "overflow_y": null,
            "overflow_x": null,
            "grid_auto_flow": null,
            "grid_area": null,
            "grid_template_columns": null,
            "flex": null,
            "_model_name": "LayoutModel",
            "justify_items": null,
            "grid_row": null,
            "max_height": null,
            "align_content": null,
            "visibility": null,
            "align_self": null,
            "height": null,
            "min_height": null,
            "padding": null,
            "grid_auto_rows": null,
            "grid_gap": null,
            "max_width": null,
            "order": null,
            "_view_module_version": "1.2.0",
            "grid_template_areas": null,
            "object_position": null,
            "object_fit": null,
            "grid_auto_columns": null,
            "margin": null,
            "display": null,
            "left": null
          }
        }
      }
    }
  },
  "cells": [
    {
      "cell_type": "markdown",
      "metadata": {
        "id": "view-in-github",
        "colab_type": "text"
      },
      "source": [
        "<a href=\"https://colab.research.google.com/github/ahmedabdelhameed/PyTorch/blob/master/MLP_MINIST_Classification.ipynb\" target=\"_parent\"><img src=\"https://colab.research.google.com/assets/colab-badge.svg\" alt=\"Open In Colab\"/></a>"
      ]
    },
    {
      "cell_type": "code",
      "metadata": {
        "id": "ojkU4UPUmjp7"
      },
      "source": [
        "import numpy as np\r\n",
        "import matplotlib.pyplot as plt \r\n",
        "import torch\r\n",
        "import torch.nn.functional as F\r\n",
        "from torch import nn\r\n",
        "from torch import optim\r\n",
        "from torchvision import datasets, transforms\r\n",
        "from torch.utils.data import DataLoader\r\n",
        "\r\n",
        "import PIL.ImageOps\r\n",
        "import requests\r\n",
        "from PIL import Image"
      ],
      "execution_count": 55,
      "outputs": []
    },
    {
      "cell_type": "code",
      "metadata": {
        "id": "qGwLds_Sn1fI"
      },
      "source": [
        "# Hyperparameters\r\n",
        "input_size = 784\r\n",
        "hidden_layer1_size =300\r\n",
        "hidden_layer2_size =100\r\n",
        "num_classes = 10\r\n",
        "batch_size = 100\r\n",
        "num_epochs = 3\r\n",
        "learning_rate = 0.01"
      ],
      "execution_count": 56,
      "outputs": []
    },
    {
      "cell_type": "code",
      "metadata": {
        "id": "lXM2pyjnni34"
      },
      "source": [
        "# Create Fully Connected Network\r\n",
        "class Model(nn.Module):\r\n",
        "    def __init__(self, input_size, h1, h2, output_size):\r\n",
        "        super(Model,self).__init__() \r\n",
        "        self.fc_1 = nn.Linear(input_size, h1)\r\n",
        "        self.fc_2 = nn.Linear(h1, h2)\r\n",
        "        self.fc_3 = nn.Linear(h2, output_size)\r\n",
        "    def forward(self, x):\r\n",
        "        x = F.relu(self.fc_1(x))\r\n",
        "        x = F.relu(self.fc_2(x))\r\n",
        "        x = self.fc_3(x)\r\n",
        "        return x"
      ],
      "execution_count": 57,
      "outputs": []
    },
    {
      "cell_type": "code",
      "metadata": {
        "colab": {
          "base_uri": "https://localhost:8080/"
        },
        "id": "Ipa0iH-XnmEs",
        "outputId": "35ae3b22-40b1-4e03-f538-9f86dfe4df05"
      },
      "source": [
        "# For testing the model output shape\r\n",
        "model = Model(784, 300, 100, 10)\r\n",
        "x = torch.randn(64,784)\r\n",
        "print(model(x).shape)"
      ],
      "execution_count": 58,
      "outputs": [
        {
          "output_type": "stream",
          "text": [
            "torch.Size([64, 10])\n"
          ],
          "name": "stdout"
        }
      ]
    },
    {
      "cell_type": "code",
      "metadata": {
        "colab": {
          "base_uri": "https://localhost:8080/"
        },
        "id": "Tb1-ZKP8nsXg",
        "outputId": "f2a09707-9c92-4f17-b06c-329a6107220b"
      },
      "source": [
        "device = torch.device('cuda' if torch.cuda.is_available() else 'cpu')\r\n",
        "print(device)"
      ],
      "execution_count": 59,
      "outputs": [
        {
          "output_type": "stream",
          "text": [
            "cuda\n"
          ],
          "name": "stdout"
        }
      ]
    },
    {
      "cell_type": "code",
      "metadata": {
        "colab": {
          "base_uri": "https://localhost:8080/",
          "height": 455,
          "referenced_widgets": [
            "c796261460fd41d4aedc8b735853841a",
            "7e2ac6d74a4f4eb193e3e4bc8c0ade4c",
            "6eb38a2162884e3ea3dd445fe89b93e7",
            "6f6c4d8d0a2141dc8dad4580d6d7d327",
            "4db2b884e7924cf69af1e76d42fbc4ce",
            "be1ffa9c2fc144908afeb552bb54a2f4",
            "8a76d1ab351a4e5a802ab0d4f224414e",
            "a4b3c0c49f8e47f78e97f64fb6bed343",
            "9c7a92043e3b4e2c99f485c2079c2664",
            "09b22c1661b1430198e9ae74e5182477",
            "9032a1b2c6cf484a80bcd023f8213e8a",
            "4d62aecf950040eb86537fb539251b15",
            "ea79c071daac41b6a041702168fa14c1",
            "f8a5bc37ecb24a8e947a98da22b40d1e",
            "5fa22e9cae274eb997c0574e56152720",
            "832fa8e368024e5487fd8a2d6c57c6f6",
            "4fd1d7615dce418d97f74fbc589bb9b3",
            "19c408af39374bdfa9c99d3d8dfaa43e",
            "fd780a14d24f483ea07d6d7182e13ba3",
            "f08e07d4ed7841728089a72fb64106d1",
            "1ca7021318074da6a31bb7e10e9e384d",
            "7b0e572e92f84a6eb8c1de70df6ba32a",
            "933b83a7faaa479b9d196584bb7b7dff",
            "5ea4d70ea26a4192816badde681c121e",
            "b7ab4c0ad0d7479f880e733c14677a19",
            "fb209e4d576e4fdd90def036c888b27d",
            "d890b08cf4f34c179e59e55d0fea9b00",
            "5b048ea9c39b42259f69c12fc1c425c8",
            "00a41cd1461a41ebbe9ace44e4158621",
            "2b5e7644412a45df87d0f03df67bb6a4",
            "8bad3afd353c47c68102d9c7c4a47cb1",
            "5a0075f6805544409ff90d66cf9ca97f"
          ]
        },
        "id": "_35aOjOGmtm7",
        "outputId": "aadf56e1-c7ce-46f2-b308-d032f2e7cd7d"
      },
      "source": [
        "# Loading the dataset\r\n",
        "transform  = transforms.Compose([transforms.Resize((28,28)),\r\n",
        "                                 transforms.ToTensor()\r\n",
        "                                ])\r\n",
        "training_dataset = datasets.MNIST(root='./mnist', train=True, \r\n",
        "                                  download=True, transform= transform)\r\n",
        "validation_dataset = datasets.MNIST(root='./mnist', train=False, \r\n",
        "                                  download=True, transform= transform) \r\n",
        "\r\n",
        "print (\"length of training_dataset: \", len(training_dataset))\r\n",
        "print (\"length of validation_dataset: \", len(validation_dataset))"
      ],
      "execution_count": 15,
      "outputs": [
        {
          "output_type": "stream",
          "text": [
            "Downloading http://yann.lecun.com/exdb/mnist/train-images-idx3-ubyte.gz to ./mnist/MNIST/raw/train-images-idx3-ubyte.gz\n"
          ],
          "name": "stdout"
        },
        {
          "output_type": "display_data",
          "data": {
            "application/vnd.jupyter.widget-view+json": {
              "model_id": "c796261460fd41d4aedc8b735853841a",
              "version_minor": 0,
              "version_major": 2
            },
            "text/plain": [
              "HBox(children=(FloatProgress(value=1.0, bar_style='info', max=1.0), HTML(value='')))"
            ]
          },
          "metadata": {
            "tags": []
          }
        },
        {
          "output_type": "stream",
          "text": [
            "Extracting ./mnist/MNIST/raw/train-images-idx3-ubyte.gz to ./mnist/MNIST/raw\n",
            "Downloading http://yann.lecun.com/exdb/mnist/train-labels-idx1-ubyte.gz to ./mnist/MNIST/raw/train-labels-idx1-ubyte.gz\n"
          ],
          "name": "stdout"
        },
        {
          "output_type": "display_data",
          "data": {
            "application/vnd.jupyter.widget-view+json": {
              "model_id": "9c7a92043e3b4e2c99f485c2079c2664",
              "version_minor": 0,
              "version_major": 2
            },
            "text/plain": [
              "HBox(children=(FloatProgress(value=1.0, bar_style='info', max=1.0), HTML(value='')))"
            ]
          },
          "metadata": {
            "tags": []
          }
        },
        {
          "output_type": "stream",
          "text": [
            "Extracting ./mnist/MNIST/raw/train-labels-idx1-ubyte.gz to ./mnist/MNIST/raw\n",
            "Downloading http://yann.lecun.com/exdb/mnist/t10k-images-idx3-ubyte.gz to ./mnist/MNIST/raw/t10k-images-idx3-ubyte.gz\n"
          ],
          "name": "stdout"
        },
        {
          "output_type": "display_data",
          "data": {
            "application/vnd.jupyter.widget-view+json": {
              "model_id": "4fd1d7615dce418d97f74fbc589bb9b3",
              "version_minor": 0,
              "version_major": 2
            },
            "text/plain": [
              "HBox(children=(FloatProgress(value=1.0, bar_style='info', max=1.0), HTML(value='')))"
            ]
          },
          "metadata": {
            "tags": []
          }
        },
        {
          "output_type": "stream",
          "text": [
            "Extracting ./mnist/MNIST/raw/t10k-images-idx3-ubyte.gz to ./mnist/MNIST/raw\n",
            "Downloading http://yann.lecun.com/exdb/mnist/t10k-labels-idx1-ubyte.gz to ./mnist/MNIST/raw/t10k-labels-idx1-ubyte.gz\n",
            "\n",
            "\n"
          ],
          "name": "stdout"
        },
        {
          "output_type": "display_data",
          "data": {
            "application/vnd.jupyter.widget-view+json": {
              "model_id": "b7ab4c0ad0d7479f880e733c14677a19",
              "version_minor": 0,
              "version_major": 2
            },
            "text/plain": [
              "HBox(children=(FloatProgress(value=1.0, bar_style='info', max=1.0), HTML(value='')))"
            ]
          },
          "metadata": {
            "tags": []
          }
        },
        {
          "output_type": "stream",
          "text": [
            "Extracting ./mnist/MNIST/raw/t10k-labels-idx1-ubyte.gz to ./mnist/MNIST/raw\n",
            "Processing...\n",
            "Done!\n",
            "length of training_dataset:  60000\n",
            "length of validation_dataset:  10000\n"
          ],
          "name": "stdout"
        },
        {
          "output_type": "stream",
          "text": [
            "/usr/local/lib/python3.7/dist-packages/torchvision/datasets/mnist.py:480: UserWarning: The given NumPy array is not writeable, and PyTorch does not support non-writeable tensors. This means you can write to the underlying (supposedly non-writeable) NumPy array using the tensor. You may want to copy the array to protect its data or make it writeable before converting it to a tensor. This type of warning will be suppressed for the rest of this program. (Triggered internally at  /pytorch/torch/csrc/utils/tensor_numpy.cpp:141.)\n",
            "  return torch.from_numpy(parsed.astype(m[2], copy=False)).view(*s)\n"
          ],
          "name": "stderr"
        }
      ]
    },
    {
      "cell_type": "code",
      "metadata": {
        "colab": {
          "base_uri": "https://localhost:8080/",
          "height": 405
        },
        "id": "upvOGcGwm-WD",
        "outputId": "4a62fd69-653e-4657-89e8-e30e96c9100d"
      },
      "source": [
        "print(training_dataset[1][0].shape)\r\n",
        "print(training_dataset[1][1])\r\n",
        "\r\n",
        "# Drawing the first 10 digits with labels starting at index 1\r\n",
        "fig=plt.figure(figsize=(15, 5))\r\n",
        "\r\n",
        "for idx in range(1, 11):\r\n",
        "  fig.add_subplot(2, 5, idx)\r\n",
        "  # title is the image's label\r\n",
        "  plt.title(training_dataset[idx][1])\r\n",
        "  plt.imshow(transforms.ToPILImage()(training_dataset[idx][0]), cmap='gray')\r\n",
        "plt.tight_layout()\r\n",
        "plt.show()"
      ],
      "execution_count": 60,
      "outputs": [
        {
          "output_type": "stream",
          "text": [
            "torch.Size([1, 28, 28])\n",
            "0\n"
          ],
          "name": "stdout"
        },
        {
          "output_type": "display_data",
          "data": {
            "image/png": "[encoded data removed]",
            "text/plain": [
              "<Figure size 1080x360 with 10 Axes>"
            ]
          },
          "metadata": {
            "tags": [],
            "needs_background": "light"
          }
        }
      ]
    },
    {
      "cell_type": "code",
      "metadata": {
        "id": "Bb-MBiMYiby2"
      },
      "source": [
        "training_loader = DataLoader(dataset=training_dataset, \r\n",
        "                                              batch_size=batch_size,\r\n",
        "                                              shuffle=True)\r\n",
        "  \r\n",
        "# We don't need to shuffle validation data \r\n",
        "validation_loader = DataLoader(dataset=validation_dataset, \r\n",
        "                                              batch_size=batch_size,\r\n",
        "                                              shuffle=False)"
      ],
      "execution_count": 61,
      "outputs": []
    },
    {
      "cell_type": "code",
      "metadata": {
        "colab": {
          "base_uri": "https://localhost:8080/"
        },
        "id": "T6Nd6hTe-k1W",
        "outputId": "3cffc896-d237-44c5-c357-d50d6bad2328"
      },
      "source": [
        "print(len(training_loader.dataset))"
      ],
      "execution_count": 62,
      "outputs": [
        {
          "output_type": "stream",
          "text": [
            "60000\n"
          ],
          "name": "stdout"
        }
      ]
    },
    {
      "cell_type": "code",
      "metadata": {
        "colab": {
          "base_uri": "https://localhost:8080/"
        },
        "id": "cJcVwlis-qjd",
        "outputId": "3756aa45-0ba3-437c-b5ba-a1bdc852032e"
      },
      "source": [
        "print(len(validation_loader.dataset))"
      ],
      "execution_count": 63,
      "outputs": [
        {
          "output_type": "stream",
          "text": [
            "10000\n"
          ],
          "name": "stdout"
        }
      ]
    },
    {
      "cell_type": "code",
      "metadata": {
        "colab": {
          "base_uri": "https://localhost:8080/"
        },
        "id": "lNtwTZU3t7Ch",
        "outputId": "fd6df7c6-c442-4c94-b20e-930ffc938516"
      },
      "source": [
        "# Network Initialization\r\n",
        "model = Model(input_size, hidden_layer1_size, hidden_layer2_size, num_classes).to(device)\r\n",
        "print (model)"
      ],
      "execution_count": 64,
      "outputs": [
        {
          "output_type": "stream",
          "text": [
            "Model(\n",
            "  (fc_1): Linear(in_features=784, out_features=300, bias=True)\n",
            "  (fc_2): Linear(in_features=300, out_features=100, bias=True)\n",
            "  (fc_3): Linear(in_features=100, out_features=10, bias=True)\n",
            ")\n"
          ],
          "name": "stdout"
        }
      ]
    },
    {
      "cell_type": "code",
      "metadata": {
        "id": "-vn7Vi-JmFLM",
        "colab": {
          "base_uri": "https://localhost:8080/"
        },
        "outputId": "8ca9bb2f-3c92-4e13-b576-f70ba7359498"
      },
      "source": [
        "# Cross Entropy Loss with Adam Optimizer \r\n",
        "criterion = nn.CrossEntropyLoss()\r\n",
        "optimizer = optim.Adam(model.parameters(), lr = learning_rate)\r\n",
        "\r\n",
        "\r\n",
        "for e in range(num_epochs):\r\n",
        "\r\n",
        "    train_corrects = 0.0 \r\n",
        "    train_batch_loss = 0.0\r\n",
        "    train_epoch_loss = 0.0\r\n",
        "    val_corrects = 0.0\r\n",
        "    val_epoch_loss = 0.0\r\n",
        "    \r\n",
        "    # loop through 60000 samples 100 at a time\r\n",
        "    for batch_idx, data in enumerate(training_loader, start=1):\r\n",
        "        # data[0] is the array containing 100(batch_size) number of 1*28*28\r\n",
        "        # data[1] is the array containing 100 number of lables\r\n",
        "        # print(\"\\nBatch = \" + str(batch_idx))\r\n",
        "        # print(data[0].shape)\r\n",
        "        # convert (100, 1, 28 , 28) to (100, 748)\r\n",
        "        inputs = data[0].view(data[0].shape[0], -1)\r\n",
        "        labels = data[1]\r\n",
        "\r\n",
        "        inputs = inputs.to(device= device)\r\n",
        "        labels = labels.to(device= device)\r\n",
        "\r\n",
        "        #forward \r\n",
        "        outputs = model(inputs)\r\n",
        "        loss = criterion(outputs, labels)\r\n",
        "\r\n",
        "        #backward\r\n",
        "        optimizer.zero_grad()\r\n",
        "        loss.backward()\r\n",
        "        optimizer.step()\r\n",
        "\r\n",
        "        #print(outputs.shape)  # (batch_size,10)\r\n",
        "        # Return the index of the highest possibility\r\n",
        "        # which are the predicted labels\r\n",
        "        _, preds = torch.max(outputs, 1)\r\n",
        "\r\n",
        "        train_batch_loss += loss.item()\r\n",
        "\r\n",
        "        # sum up all the correct prediction\r\n",
        "        # since (preds==labels).sum() is a tensor\r\n",
        "        # we use item() to extract the number\r\n",
        "        train_corrects += (preds == labels).sum().item()\r\n",
        "\r\n",
        "        # print training loss every 100 mini-batch\r\n",
        "        # train_batch_loss is the average loss for 100 mini-batch\r\n",
        "        if batch_idx % 100 == 0:\r\n",
        "            print('Train Epoch: {} [{}/{} ({:.2f}%)] Loss: {:.6f}'.format(\r\n",
        "                   e + 1 , \r\n",
        "                   batch_idx * len(data[0]), \r\n",
        "                   len(training_loader.dataset),\r\n",
        "                   100.* batch_idx * len(data[0]) / len(training_loader.dataset), \r\n",
        "                   train_batch_loss / 100 ))\r\n",
        "            # accumulate loss for the epoch\r\n",
        "            print(train_batch_loss)\r\n",
        "            train_epoch_loss += train_batch_loss\r\n",
        "            # reset the loss for every mini-batch\r\n",
        "            train_batch_loss = 0.0\r\n",
        "    else:\r\n",
        "        # torch.no_grad deactivate the auograd engine, \r\n",
        "        # reduce memory usage and speed up computations\r\n",
        "        # model.eval()\r\n",
        "        with torch.no_grad():\r\n",
        "            \r\n",
        "            for val_data in validation_loader:\r\n",
        "                val_inputs = val_data[0].view(val_data[0].shape[0], -1)\r\n",
        "                val_labels = val_data[1]\r\n",
        "\r\n",
        "                val_inputs = val_inputs.to(device = device)\r\n",
        "                val_labels = val_labels.to(device = device)\r\n",
        "                \r\n",
        "                val_outputs = model(val_inputs)\r\n",
        "                val_loss = criterion(val_outputs, val_labels)\r\n",
        "\r\n",
        "                _, val_preds = torch.max(val_outputs, 1)\r\n",
        "                val_epoch_loss += val_loss.item()\r\n",
        "                val_corrects += (val_preds == val_labels).sum().item()\r\n",
        "\r\n",
        "\r\n",
        "        # print result for every epoch \r\n",
        "        train_accuracy = 100. * train_corrects / len(training_loader.dataset)\r\n",
        "        # here batch_idx is the total number of mini-batch = 600\r\n",
        "        train_epoch_loss /= batch_idx\r\n",
        "\r\n",
        "        print('epoch :', (e+1))\r\n",
        "        print('Train set: Accuracy: {}/{} ({:.2f}%), Average Loss: {:.6f}'.format(\r\n",
        "                train_corrects, len(training_loader.dataset),\r\n",
        "                train_accuracy, train_epoch_loss))\r\n",
        "\r\n",
        "\r\n",
        "        \r\n",
        "        val_accuracy = 100. * val_corrects / len(validation_loader.dataset)\r\n",
        "        val_epoch_loss /= batch_idx\r\n",
        "\r\n",
        "        print('Validation set: Accuracy: {}/{} ({:.2f}%), Average Loss: {:.6f}'.format(\r\n",
        "                val_corrects, len(validation_loader.dataset),\r\n",
        "                val_accuracy, val_epoch_loss))\r\n",
        "        print('*******************************************************************')\r\n",
        "        # model.train()"
      ],
      "execution_count": 65,
      "outputs": [
        {
          "output_type": "stream",
          "text": [
            "Train Epoch: 1 [10000/60000 (16.67%)] Loss: 0.478278\n",
            "47.82784530520439\n",
            "Train Epoch: 1 [20000/60000 (33.33%)] Loss: 0.205496\n",
            "20.549591943621635\n",
            "Train Epoch: 1 [30000/60000 (50.00%)] Loss: 0.211165\n",
            "21.116484373807907\n",
            "Train Epoch: 1 [40000/60000 (66.67%)] Loss: 0.174382\n",
            "17.43823290616274\n",
            "Train Epoch: 1 [50000/60000 (83.33%)] Loss: 0.152220\n",
            "15.22204990312457\n",
            "Train Epoch: 1 [60000/60000 (100.00%)] Loss: 0.162075\n",
            "16.20749913342297\n",
            "epoch : 1\n",
            "Train set: Accuracy: 55829.0/60000 (93.05%), Average Loss: 0.230603\n",
            "Validation set: Accuracy: 9600.0/10000 (96.00%), Average Loss: 0.022665\n",
            "*******************************************************************\n",
            "Train Epoch: 2 [10000/60000 (16.67%)] Loss: 0.129751\n",
            "12.975102873519063\n",
            "Train Epoch: 2 [20000/60000 (33.33%)] Loss: 0.122274\n",
            "12.22742222622037\n",
            "Train Epoch: 2 [30000/60000 (50.00%)] Loss: 0.128054\n",
            "12.805449006147683\n",
            "Train Epoch: 2 [40000/60000 (66.67%)] Loss: 0.134411\n",
            "13.441104024648666\n",
            "Train Epoch: 2 [50000/60000 (83.33%)] Loss: 0.109348\n",
            "10.934774697292596\n",
            "Train Epoch: 2 [60000/60000 (100.00%)] Loss: 0.118581\n",
            "11.858072839677334\n",
            "epoch : 2\n",
            "Train set: Accuracy: 57818.0/60000 (96.36%), Average Loss: 0.123737\n",
            "Validation set: Accuracy: 9636.0/10000 (96.36%), Average Loss: 0.021938\n",
            "*******************************************************************\n",
            "Train Epoch: 3 [10000/60000 (16.67%)] Loss: 0.092129\n",
            "9.212932252325118\n",
            "Train Epoch: 3 [20000/60000 (33.33%)] Loss: 0.105610\n",
            "10.560983795672655\n",
            "Train Epoch: 3 [30000/60000 (50.00%)] Loss: 0.093147\n",
            "9.31465384317562\n",
            "Train Epoch: 3 [40000/60000 (66.67%)] Loss: 0.110241\n",
            "11.024077997542918\n",
            "Train Epoch: 3 [50000/60000 (83.33%)] Loss: 0.119041\n",
            "11.904110928997397\n",
            "Train Epoch: 3 [60000/60000 (100.00%)] Loss: 0.113396\n",
            "11.339635629206896\n",
            "epoch : 3\n",
            "Train set: Accuracy: 58158.0/60000 (96.93%), Average Loss: 0.105594\n",
            "Validation set: Accuracy: 9695.0/10000 (96.95%), Average Loss: 0.021115\n",
            "*******************************************************************\n"
          ],
          "name": "stdout"
        }
      ]
    },
    {
      "cell_type": "code",
      "metadata": {
        "id": "BYkQhkPEoass"
      },
      "source": [
        ""
      ],
      "execution_count": null,
      "outputs": []
    }
  ]
}