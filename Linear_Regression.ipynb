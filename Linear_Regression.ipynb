{
  "nbformat": 4,
  "nbformat_minor": 0,
  "metadata": {
    "colab": {
      "name": "Linear_Regression.ipynb",
      "provenance": [],
      "collapsed_sections": []
    },
    "kernelspec": {
      "name": "python3",
      "display_name": "Python 3"
    }
  },
  "cells": [
    {
      "cell_type": "markdown",
      "metadata": {
        "id": "vmF2N0bfXw7p",
        "colab_type": "text"
      },
      "source": [
        "# Linear Regression in PyTorch"
      ]
    },
    {
      "cell_type": "markdown",
      "metadata": {
        "id": "5SxOrkMZnlCk",
        "colab_type": "text"
      },
      "source": [
        "\n",
        "<a href=\"https://colab.research.google.com/github/ahmedabdelhameed/PyTorch/blob/master/Linear_Regression.ipynb\" target=\"_parent\">\n",
        "    <img src=\"https://colab.research.google.com/assets/colab-badge.svg\"/>\n"
      ]
    },
    {
      "cell_type": "code",
      "metadata": {
        "id": "sas4Wc4qXsHM",
        "colab_type": "code",
        "colab": {}
      },
      "source": [
        "import numpy as np\n",
        "import torch"
      ],
      "execution_count": 1,
      "outputs": []
    },
    {
      "cell_type": "code",
      "metadata": {
        "id": "dHV8R2IjbstE",
        "colab_type": "code",
        "colab": {}
      },
      "source": [
        "# Input (temp, rainfall, humidity)\n",
        "inputs = np.array([[73, 67, 43], \n",
        "                   [91, 88, 64], \n",
        "                   [87, 134, 58], \n",
        "                   [102, 43, 37], \n",
        "                   [69, 96, 70]], dtype='float32')"
      ],
      "execution_count": 2,
      "outputs": []
    },
    {
      "cell_type": "code",
      "metadata": {
        "id": "3VgEmuH0btct",
        "colab_type": "code",
        "colab": {}
      },
      "source": [
        "# Targets (apples, oranges)\n",
        "targets = np.array([[56, 70], \n",
        "                    [81, 101], \n",
        "                    [119, 133], \n",
        "                    [22, 37], \n",
        "                    [103, 119]], dtype='float32')"
      ],
      "execution_count": 3,
      "outputs": []
    },
    {
      "cell_type": "code",
      "metadata": {
        "id": "llxdp5g0bvgm",
        "colab_type": "code",
        "colab": {
          "base_uri": "https://localhost:8080/",
          "height": 204
        },
        "outputId": "201aa9d7-338c-455a-aea3-7a4f960d8311"
      },
      "source": [
        "inputs = torch.from_numpy(inputs)\n",
        "targets = torch.from_numpy(targets)\n",
        "print(inputs)\n",
        "print(targets)"
      ],
      "execution_count": 4,
      "outputs": [
        {
          "output_type": "stream",
          "text": [
            "tensor([[ 73.,  67.,  43.],\n",
            "        [ 91.,  88.,  64.],\n",
            "        [ 87., 134.,  58.],\n",
            "        [102.,  43.,  37.],\n",
            "        [ 69.,  96.,  70.]])\n",
            "tensor([[ 56.,  70.],\n",
            "        [ 81., 101.],\n",
            "        [119., 133.],\n",
            "        [ 22.,  37.],\n",
            "        [103., 119.]])\n"
          ],
          "name": "stdout"
        }
      ]
    },
    {
      "cell_type": "code",
      "metadata": {
        "id": "K-fmciGQcwhV",
        "colab_type": "code",
        "colab": {
          "base_uri": "https://localhost:8080/",
          "height": 73
        },
        "outputId": "27043e83-4671-40a0-a700-151ce82287ed"
      },
      "source": [
        "w = torch.randn(2, 3, requires_grad=True)\n",
        "b = torch.randn(2, requires_grad = True)\n",
        "print(w)\n",
        "print(b)"
      ],
      "execution_count": 5,
      "outputs": [
        {
          "output_type": "stream",
          "text": [
            "tensor([[-0.4506,  0.0775,  0.8138],\n",
            "        [ 1.4167,  1.2544, -1.2968]], requires_grad=True)\n",
            "tensor([ 0.9753, -0.5384], requires_grad=True)\n"
          ],
          "name": "stdout"
        }
      ]
    },
    {
      "cell_type": "code",
      "metadata": {
        "id": "qV5ozqz7fRWY",
        "colab_type": "code",
        "colab": {}
      },
      "source": [
        "def model(x):\n",
        "  return x @ w.t() +b"
      ],
      "execution_count": 6,
      "outputs": []
    },
    {
      "cell_type": "code",
      "metadata": {
        "id": "xE59mK3KhLzk",
        "colab_type": "code",
        "colab": {}
      },
      "source": [
        "preds = model(inputs)"
      ],
      "execution_count": 7,
      "outputs": []
    },
    {
      "cell_type": "code",
      "metadata": {
        "id": "cB7bsZdFhosc",
        "colab_type": "code",
        "colab": {
          "base_uri": "https://localhost:8080/",
          "height": 111
        },
        "outputId": "7c7096e3-311f-421c-d9ec-d123950dea31"
      },
      "source": [
        "print(preds)"
      ],
      "execution_count": 8,
      "outputs": [
        {
          "output_type": "stream",
          "text": [
            "tensor([[  8.2684, 131.1671],\n",
            "        [ 18.8755, 155.7783],\n",
            "        [ 19.3584, 215.5960],\n",
            "        [-11.5410, 149.9270],\n",
            "        [ 34.2912, 126.8646]], grad_fn=<AddBackward0>)\n"
          ],
          "name": "stdout"
        }
      ]
    },
    {
      "cell_type": "code",
      "metadata": {
        "id": "kDYizMB7hqYh",
        "colab_type": "code",
        "colab": {
          "base_uri": "https://localhost:8080/",
          "height": 111
        },
        "outputId": "6c5073c4-4f87-4073-d605-9f571279e20c"
      },
      "source": [
        "# Compare with targets\n",
        "print(targets)"
      ],
      "execution_count": 9,
      "outputs": [
        {
          "output_type": "stream",
          "text": [
            "tensor([[ 56.,  70.],\n",
            "        [ 81., 101.],\n",
            "        [119., 133.],\n",
            "        [ 22.,  37.],\n",
            "        [103., 119.]])\n"
          ],
          "name": "stdout"
        }
      ]
    },
    {
      "cell_type": "code",
      "metadata": {
        "id": "nLh4A_bLhyV2",
        "colab_type": "code",
        "colab": {}
      },
      "source": [
        "#MSE\n",
        "def mse (t1,t2):\n",
        "  diff = t1-t2\n",
        "  return torch.sum(diff*diff) / diff.numel()"
      ],
      "execution_count": 10,
      "outputs": []
    },
    {
      "cell_type": "code",
      "metadata": {
        "id": "DHqMPXiRkeNS",
        "colab_type": "code",
        "colab": {
          "base_uri": "https://localhost:8080/",
          "height": 36
        },
        "outputId": "2d29e019-2068-483b-9abc-9ff1ea2c650d"
      },
      "source": [
        "# Compute loss\n",
        "loss = mse(preds, targets)\n",
        "print(loss)"
      ],
      "execution_count": 11,
      "outputs": [
        {
          "output_type": "stream",
          "text": [
            "tensor(4829.0654, grad_fn=<DivBackward0>)\n"
          ],
          "name": "stdout"
        }
      ]
    },
    {
      "cell_type": "code",
      "metadata": {
        "id": "qeuLuDYVk-4Y",
        "colab_type": "code",
        "colab": {}
      },
      "source": [
        "# Compute gradients\n",
        "loss.backward()"
      ],
      "execution_count": 12,
      "outputs": []
    },
    {
      "cell_type": "code",
      "metadata": {
        "id": "bXy5_DVCqgwm",
        "colab_type": "code",
        "colab": {
          "base_uri": "https://localhost:8080/",
          "height": 92
        },
        "outputId": "492b7104-8049-47ff-e84e-2123a4d1e212"
      },
      "source": [
        "# Gradients for weights\n",
        "print(w)\n",
        "print(w.grad)"
      ],
      "execution_count": 13,
      "outputs": [
        {
          "output_type": "stream",
          "text": [
            "tensor([[-0.4506,  0.0775,  0.8138],\n",
            "        [ 1.4167,  1.2544, -1.2968]], requires_grad=True)\n",
            "tensor([[-5193.7305, -6011.0518, -3571.6550],\n",
            "        [ 5739.4175,  5119.4824,  3131.0769]])\n"
          ],
          "name": "stdout"
        }
      ]
    },
    {
      "cell_type": "code",
      "metadata": {
        "id": "QtGice_Vwln6",
        "colab_type": "code",
        "colab": {
          "base_uri": "https://localhost:8080/",
          "height": 54
        },
        "outputId": "63b98a9b-b0d0-46ee-c8ad-2cb40c5f75ae"
      },
      "source": [
        "print(b)\n",
        "print(b.grad)"
      ],
      "execution_count": 14,
      "outputs": [
        {
          "output_type": "stream",
          "text": [
            "tensor([ 0.9753, -0.5384], requires_grad=True)\n",
            "tensor([-62.3495,  63.8666])\n"
          ],
          "name": "stdout"
        }
      ]
    },
    {
      "cell_type": "code",
      "metadata": {
        "id": "rCJ91NJZw5hA",
        "colab_type": "code",
        "colab": {
          "base_uri": "https://localhost:8080/",
          "height": 73
        },
        "outputId": "5edcf943-9c62-4b5c-ec74-d45f4b5cd056"
      },
      "source": [
        "w.grad.zero_()\n",
        "b.grad.zero_()\n",
        "print(w.grad)\n",
        "print(b.grad)"
      ],
      "execution_count": 15,
      "outputs": [
        {
          "output_type": "stream",
          "text": [
            "tensor([[0., 0., 0.],\n",
            "        [0., 0., 0.]])\n",
            "tensor([0., 0.])\n"
          ],
          "name": "stdout"
        }
      ]
    },
    {
      "cell_type": "code",
      "metadata": {
        "id": "DiafMts66T-3",
        "colab_type": "code",
        "colab": {
          "base_uri": "https://localhost:8080/",
          "height": 111
        },
        "outputId": "e0907cf8-bd6a-495c-8785-e8b180c0a5ae"
      },
      "source": [
        "#Adjust weights and biases using gradient descent\n",
        "preds = model(inputs)\n",
        "print(preds)"
      ],
      "execution_count": 16,
      "outputs": [
        {
          "output_type": "stream",
          "text": [
            "tensor([[  8.2684, 131.1671],\n",
            "        [ 18.8755, 155.7783],\n",
            "        [ 19.3584, 215.5960],\n",
            "        [-11.5410, 149.9270],\n",
            "        [ 34.2912, 126.8646]], grad_fn=<AddBackward0>)\n"
          ],
          "name": "stdout"
        }
      ]
    },
    {
      "cell_type": "code",
      "metadata": {
        "id": "Rs1ojpwW7GEK",
        "colab_type": "code",
        "colab": {
          "base_uri": "https://localhost:8080/",
          "height": 36
        },
        "outputId": "1d3251b0-9445-4134-eccd-b071837af1d8"
      },
      "source": [
        "#compute loss\n",
        "loss = mse (preds, targets)\n",
        "print(loss)"
      ],
      "execution_count": 17,
      "outputs": [
        {
          "output_type": "stream",
          "text": [
            "tensor(4829.0654, grad_fn=<DivBackward0>)\n"
          ],
          "name": "stdout"
        }
      ]
    },
    {
      "cell_type": "code",
      "metadata": {
        "id": "dpPNlXly7swu",
        "colab_type": "code",
        "colab": {
          "base_uri": "https://localhost:8080/",
          "height": 73
        },
        "outputId": "7d80f666-8eff-444c-8a9e-133d9e0d6885"
      },
      "source": [
        "#compute gradients\n",
        "loss.backward()\n",
        "print(w.grad)\n",
        "print(b.grad)"
      ],
      "execution_count": 18,
      "outputs": [
        {
          "output_type": "stream",
          "text": [
            "tensor([[-5193.7305, -6011.0518, -3571.6550],\n",
            "        [ 5739.4175,  5119.4824,  3131.0769]])\n",
            "tensor([-62.3495,  63.8666])\n"
          ],
          "name": "stdout"
        }
      ]
    },
    {
      "cell_type": "code",
      "metadata": {
        "id": "Wbm7Do4SKbiS",
        "colab_type": "code",
        "colab": {}
      },
      "source": [
        "# Adjust weights & reset gradients\n",
        "with torch.no_grad():\n",
        "    w -= w.grad * 1e-5\n",
        "    b -= b.grad * 1e-5\n",
        "    w.grad.zero_()\n",
        "    b.grad.zero_()"
      ],
      "execution_count": 19,
      "outputs": []
    },
    {
      "cell_type": "code",
      "metadata": {
        "id": "0QV5B9cr74Rb",
        "colab_type": "code",
        "colab": {
          "base_uri": "https://localhost:8080/",
          "height": 73
        },
        "outputId": "21f9cf64-a12f-4bc0-fd3e-7968fb6eb75f"
      },
      "source": [
        "print(w)\n",
        "print(b)"
      ],
      "execution_count": 20,
      "outputs": [
        {
          "output_type": "stream",
          "text": [
            "tensor([[-0.3986,  0.1376,  0.8496],\n",
            "        [ 1.3593,  1.2032, -1.3281]], requires_grad=True)\n",
            "tensor([ 0.9759, -0.5391], requires_grad=True)\n"
          ],
          "name": "stdout"
        }
      ]
    },
    {
      "cell_type": "code",
      "metadata": {
        "id": "12roV8PWJYlZ",
        "colab_type": "code",
        "colab": {
          "base_uri": "https://localhost:8080/",
          "height": 36
        },
        "outputId": "25147ac6-822f-4602-91b8-a75f8f64c2ed"
      },
      "source": [
        "# Calculate loss\n",
        "preds = model(inputs)\n",
        "loss = mse(preds, targets)\n",
        "print(loss)"
      ],
      "execution_count": 21,
      "outputs": [
        {
          "output_type": "stream",
          "text": [
            "tensor(3509.9019, grad_fn=<DivBackward0>)\n"
          ],
          "name": "stdout"
        }
      ]
    },
    {
      "cell_type": "code",
      "metadata": {
        "id": "AwZJDEfd3mlI",
        "colab_type": "code",
        "colab": {}
      },
      "source": [
        "for i in range(100):\n",
        "  preds = model(inputs)\n",
        "  loss = mse(preds, targets)\n",
        "  loss.backward()\n",
        "  with torch.no_grad():\n",
        "    w -= w.grad * 1e-5\n",
        "    b -= b.grad * 1e-5\n",
        "    w.grad.zero_()\n",
        "    b.grad.zero_()"
      ],
      "execution_count": 22,
      "outputs": []
    },
    {
      "cell_type": "code",
      "metadata": {
        "id": "LytEBM_BXHqd",
        "colab_type": "code",
        "colab": {
          "base_uri": "https://localhost:8080/",
          "height": 36
        },
        "outputId": "54e95a38-e004-421b-bddd-629f134ce517"
      },
      "source": [
        "# Calculate loss\n",
        "preds = model(inputs)\n",
        "loss = mse(preds, targets)\n",
        "print(loss)"
      ],
      "execution_count": 23,
      "outputs": [
        {
          "output_type": "stream",
          "text": [
            "tensor(394.2370, grad_fn=<DivBackward0>)\n"
          ],
          "name": "stdout"
        }
      ]
    },
    {
      "cell_type": "code",
      "metadata": {
        "id": "lxj54IVAXvgu",
        "colab_type": "code",
        "colab": {
          "base_uri": "https://localhost:8080/",
          "height": 111
        },
        "outputId": "3697768a-636c-499e-aaff-44aa703cd663"
      },
      "source": [
        "preds"
      ],
      "execution_count": 24,
      "outputs": [
        {
          "output_type": "execute_result",
          "data": {
            "text/plain": [
              "tensor([[ 58.9406,  76.9152],\n",
              "        [ 86.1026,  88.6417],\n",
              "        [106.9819, 149.6928],\n",
              "        [ 30.7223,  74.2786],\n",
              "        [103.2643,  76.3595]], grad_fn=<AddBackward0>)"
            ]
          },
          "metadata": {
            "tags": []
          },
          "execution_count": 24
        }
      ]
    },
    {
      "cell_type": "code",
      "metadata": {
        "id": "l_WCU26vX0vV",
        "colab_type": "code",
        "colab": {
          "base_uri": "https://localhost:8080/",
          "height": 111
        },
        "outputId": "5c3013e2-10c9-465a-99a7-edc02c2d719d"
      },
      "source": [
        "targets"
      ],
      "execution_count": 25,
      "outputs": [
        {
          "output_type": "execute_result",
          "data": {
            "text/plain": [
              "tensor([[ 56.,  70.],\n",
              "        [ 81., 101.],\n",
              "        [119., 133.],\n",
              "        [ 22.,  37.],\n",
              "        [103., 119.]])"
            ]
          },
          "metadata": {
            "tags": []
          },
          "execution_count": 25
        }
      ]
    },
    {
      "cell_type": "code",
      "metadata": {
        "id": "R8P9VWd3X1ts",
        "colab_type": "code",
        "colab": {}
      },
      "source": [
        "import torch.nn as nn"
      ],
      "execution_count": 26,
      "outputs": []
    },
    {
      "cell_type": "code",
      "metadata": {
        "id": "nnl2-9csYqqk",
        "colab_type": "code",
        "colab": {}
      },
      "source": [
        "# Input (temp, rainfall, humidity)\n",
        "inputs = np.array([[73, 67, 43], [91, 88, 64], [87, 134, 58], \n",
        "                   [102, 43, 37], [69, 96, 70], [73, 67, 43], \n",
        "                   [91, 88, 64], [87, 134, 58], [102, 43, 37], \n",
        "                   [69, 96, 70], [73, 67, 43], [91, 88, 64], \n",
        "                   [87, 134, 58], [102, 43, 37], [69, 96, 70]], \n",
        "                  dtype='float32')\n",
        "\n",
        "# Targets (apples, oranges)\n",
        "targets = np.array([[56, 70], [81, 101], [119, 133], \n",
        "                    [22, 37], [103, 119], [56, 70], \n",
        "                    [81, 101], [119, 133], [22, 37], \n",
        "                    [103, 119], [56, 70], [81, 101], \n",
        "                    [119, 133], [22, 37], [103, 119]], \n",
        "                   dtype='float32')\n",
        "\n",
        "inputs = torch.from_numpy(inputs)\n",
        "targets = torch.from_numpy(targets)"
      ],
      "execution_count": 27,
      "outputs": []
    },
    {
      "cell_type": "code",
      "metadata": {
        "id": "7yj7u6xAYuhY",
        "colab_type": "code",
        "colab": {
          "base_uri": "https://localhost:8080/",
          "height": 298
        },
        "outputId": "957631d3-14cb-4372-b31a-60a7aa09c9da"
      },
      "source": [
        "inputs"
      ],
      "execution_count": 28,
      "outputs": [
        {
          "output_type": "execute_result",
          "data": {
            "text/plain": [
              "tensor([[ 73.,  67.,  43.],\n",
              "        [ 91.,  88.,  64.],\n",
              "        [ 87., 134.,  58.],\n",
              "        [102.,  43.,  37.],\n",
              "        [ 69.,  96.,  70.],\n",
              "        [ 73.,  67.,  43.],\n",
              "        [ 91.,  88.,  64.],\n",
              "        [ 87., 134.,  58.],\n",
              "        [102.,  43.,  37.],\n",
              "        [ 69.,  96.,  70.],\n",
              "        [ 73.,  67.,  43.],\n",
              "        [ 91.,  88.,  64.],\n",
              "        [ 87., 134.,  58.],\n",
              "        [102.,  43.,  37.],\n",
              "        [ 69.,  96.,  70.]])"
            ]
          },
          "metadata": {
            "tags": []
          },
          "execution_count": 28
        }
      ]
    },
    {
      "cell_type": "code",
      "metadata": {
        "id": "38rtvhIvZCCc",
        "colab_type": "code",
        "colab": {}
      },
      "source": [
        "from torch.utils.data import TensorDataset"
      ],
      "execution_count": 29,
      "outputs": []
    },
    {
      "cell_type": "code",
      "metadata": {
        "id": "H_1QYwHbgn2v",
        "colab_type": "code",
        "colab": {}
      },
      "source": [
        "train_ds = TensorDataset(inputs, targets)"
      ],
      "execution_count": 30,
      "outputs": []
    },
    {
      "cell_type": "code",
      "metadata": {
        "id": "72vZV5aGgteW",
        "colab_type": "code",
        "colab": {
          "base_uri": "https://localhost:8080/",
          "height": 111
        },
        "outputId": "9a1ba81e-444b-4d6c-e3e7-f5923f4f8aa7"
      },
      "source": [
        "train_ds[0:3]"
      ],
      "execution_count": 31,
      "outputs": [
        {
          "output_type": "execute_result",
          "data": {
            "text/plain": [
              "(tensor([[ 73.,  67.,  43.],\n",
              "         [ 91.,  88.,  64.],\n",
              "         [ 87., 134.,  58.]]), tensor([[ 56.,  70.],\n",
              "         [ 81., 101.],\n",
              "         [119., 133.]]))"
            ]
          },
          "metadata": {
            "tags": []
          },
          "execution_count": 31
        }
      ]
    },
    {
      "cell_type": "code",
      "metadata": {
        "id": "5lVD5Vj1gvyk",
        "colab_type": "code",
        "colab": {}
      },
      "source": [
        "from torch.utils.data import DataLoader"
      ],
      "execution_count": 32,
      "outputs": []
    },
    {
      "cell_type": "code",
      "metadata": {
        "id": "cgTZpyDxhHge",
        "colab_type": "code",
        "colab": {}
      },
      "source": [
        "batch_size = 5\n",
        "train_dl = DataLoader(train_ds,batch_size,shuffle=True)"
      ],
      "execution_count": 33,
      "outputs": []
    },
    {
      "cell_type": "code",
      "metadata": {
        "id": "7C9ARjiChTST",
        "colab_type": "code",
        "colab": {
          "base_uri": "https://localhost:8080/",
          "height": 579
        },
        "outputId": "9405a905-328d-4243-928a-abb162fe844c"
      },
      "source": [
        "for xb, yb in train_dl:\n",
        "    print(xb)\n",
        "    print(yb)\n",
        "    #break"
      ],
      "execution_count": 34,
      "outputs": [
        {
          "output_type": "stream",
          "text": [
            "tensor([[ 91.,  88.,  64.],\n",
            "        [ 73.,  67.,  43.],\n",
            "        [102.,  43.,  37.],\n",
            "        [ 73.,  67.,  43.],\n",
            "        [ 87., 134.,  58.]])\n",
            "tensor([[ 81., 101.],\n",
            "        [ 56.,  70.],\n",
            "        [ 22.,  37.],\n",
            "        [ 56.,  70.],\n",
            "        [119., 133.]])\n",
            "tensor([[ 87., 134.,  58.],\n",
            "        [ 91.,  88.,  64.],\n",
            "        [ 69.,  96.,  70.],\n",
            "        [ 73.,  67.,  43.],\n",
            "        [ 69.,  96.,  70.]])\n",
            "tensor([[119., 133.],\n",
            "        [ 81., 101.],\n",
            "        [103., 119.],\n",
            "        [ 56.,  70.],\n",
            "        [103., 119.]])\n",
            "tensor([[ 91.,  88.,  64.],\n",
            "        [102.,  43.,  37.],\n",
            "        [ 87., 134.,  58.],\n",
            "        [ 69.,  96.,  70.],\n",
            "        [102.,  43.,  37.]])\n",
            "tensor([[ 81., 101.],\n",
            "        [ 22.,  37.],\n",
            "        [119., 133.],\n",
            "        [103., 119.],\n",
            "        [ 22.,  37.]])\n"
          ],
          "name": "stdout"
        }
      ]
    },
    {
      "cell_type": "code",
      "metadata": {
        "id": "hCdZK6q_l8Kg",
        "colab_type": "code",
        "colab": {
          "base_uri": "https://localhost:8080/",
          "height": 111
        },
        "outputId": "8c915a28-10e1-4bc9-e980-2670351fe3c3"
      },
      "source": [
        "model = nn.Linear(3,2)\n",
        "print(model.weight)\n",
        "print(model.bias)"
      ],
      "execution_count": 35,
      "outputs": [
        {
          "output_type": "stream",
          "text": [
            "Parameter containing:\n",
            "tensor([[ 0.1752, -0.0149,  0.2615],\n",
            "        [-0.1805, -0.2871,  0.4545]], requires_grad=True)\n",
            "Parameter containing:\n",
            "tensor([-0.1681,  0.0339], requires_grad=True)\n"
          ],
          "name": "stdout"
        }
      ]
    },
    {
      "cell_type": "code",
      "metadata": {
        "id": "z_mTac3TpDLx",
        "colab_type": "code",
        "colab": {
          "base_uri": "https://localhost:8080/",
          "height": 111
        },
        "outputId": "55dbdc9a-b321-4886-8ed9-f83b71282cc0"
      },
      "source": [
        "list(model.parameters())"
      ],
      "execution_count": 36,
      "outputs": [
        {
          "output_type": "execute_result",
          "data": {
            "text/plain": [
              "[Parameter containing:\n",
              " tensor([[ 0.1752, -0.0149,  0.2615],\n",
              "         [-0.1805, -0.2871,  0.4545]], requires_grad=True),\n",
              " Parameter containing:\n",
              " tensor([-0.1681,  0.0339], requires_grad=True)]"
            ]
          },
          "metadata": {
            "tags": []
          },
          "execution_count": 36
        }
      ]
    },
    {
      "cell_type": "code",
      "metadata": {
        "id": "f0CQilB3pNpM",
        "colab_type": "code",
        "colab": {}
      },
      "source": [
        "preds = model(inputs)"
      ],
      "execution_count": 37,
      "outputs": []
    },
    {
      "cell_type": "code",
      "metadata": {
        "id": "uq0dNfQCpZ5x",
        "colab_type": "code",
        "colab": {
          "base_uri": "https://localhost:8080/",
          "height": 298
        },
        "outputId": "447dc96c-c73c-4a0e-b184-a81455f63a1e"
      },
      "source": [
        "preds"
      ],
      "execution_count": 38,
      "outputs": [
        {
          "output_type": "execute_result",
          "data": {
            "text/plain": [
              "tensor([[ 22.8680, -12.8357],\n",
              "        [ 31.2004, -12.5697],\n",
              "        [ 28.2440, -27.7795],\n",
              "        [ 26.7380, -13.9080],\n",
              "        [ 28.7956,  -8.1680],\n",
              "        [ 22.8680, -12.8357],\n",
              "        [ 31.2004, -12.5697],\n",
              "        [ 28.2440, -27.7795],\n",
              "        [ 26.7380, -13.9080],\n",
              "        [ 28.7956,  -8.1680],\n",
              "        [ 22.8680, -12.8357],\n",
              "        [ 31.2004, -12.5697],\n",
              "        [ 28.2440, -27.7795],\n",
              "        [ 26.7380, -13.9080],\n",
              "        [ 28.7956,  -8.1680]], grad_fn=<AddmmBackward>)"
            ]
          },
          "metadata": {
            "tags": []
          },
          "execution_count": 38
        }
      ]
    },
    {
      "cell_type": "code",
      "metadata": {
        "id": "_ODaU1kQpbn1",
        "colab_type": "code",
        "colab": {}
      },
      "source": [
        "import torch.nn.functional as F"
      ],
      "execution_count": 39,
      "outputs": []
    },
    {
      "cell_type": "code",
      "metadata": {
        "id": "cDxMDQNnpuRd",
        "colab_type": "code",
        "colab": {}
      },
      "source": [
        "loss_fn = F.mse_loss"
      ],
      "execution_count": 40,
      "outputs": []
    },
    {
      "cell_type": "code",
      "metadata": {
        "id": "aWzNDvXz7wPy",
        "colab_type": "code",
        "colab": {}
      },
      "source": [
        "loss = loss_fn(model(inputs), targets)"
      ],
      "execution_count": 41,
      "outputs": []
    },
    {
      "cell_type": "code",
      "metadata": {
        "id": "9awYNKJYTunH",
        "colab_type": "code",
        "colab": {
          "base_uri": "https://localhost:8080/",
          "height": 36
        },
        "outputId": "f17d5e52-0c02-447e-ab52-452affd01c9e"
      },
      "source": [
        "print(loss)"
      ],
      "execution_count": 42,
      "outputs": [
        {
          "output_type": "stream",
          "text": [
            "tensor(8171.6299, grad_fn=<MseLossBackward>)\n"
          ],
          "name": "stdout"
        }
      ]
    },
    {
      "cell_type": "code",
      "metadata": {
        "id": "jnBnxzxeTy54",
        "colab_type": "code",
        "colab": {}
      },
      "source": [
        "opt = torch.optim.SGD(model.parameters,lr=1e-5)"
      ],
      "execution_count": 45,
      "outputs": []
    },
    {
      "cell_type": "code",
      "metadata": {
        "id": "O8TeHye9bVYe",
        "colab_type": "code",
        "colab": {}
      },
      "source": [
        "#Train a model\n",
        "\n",
        "def fit(num_epochs, model, loss_fn, opt, train_dl):\n",
        "\n",
        "  #go into a loop for a certain number of epochs\n",
        "  for epoch in range(num_epochs):\n",
        "\n",
        "    #for each batch of input and targets\n",
        "    for xb, yb in train_dl:\n",
        "\n",
        "      #Step#1 Generate preiction\n",
        "      preds = model(xb)\n",
        "\n",
        "      #Step#2 Calculate loss\n",
        "      loss = loss_fn(preds, yb)\n",
        "\n",
        "      #Step#3 Compute gradients\n",
        "      loss.backward()\n",
        "\n",
        "      #Step#4 Update weights and biases using gradients using single optimization step\n",
        "      opt.step()\n",
        "\n",
        "      #Step#5 Reset the gradients to zero\n",
        "      opt.zero_grad()\n",
        "\n",
        "\n",
        "      # Print the progress\n",
        "      if (epoch+1) % 10 == 0:\n",
        "        print('Epoch [{}/{}], Loss: {:.4f}'.format(epoch+1, num_epochs, loss.item()))"
      ],
      "execution_count": 53,
      "outputs": []
    },
    {
      "cell_type": "code",
      "metadata": {
        "id": "ZRJv1TyTgTeI",
        "colab_type": "code",
        "colab": {
          "base_uri": "https://localhost:8080/",
          "height": 579
        },
        "outputId": "c2043555-c67d-4ff1-93b8-3882ce9f9c07"
      },
      "source": [
        "fit(100, model, loss_fn, opt, train_dl)"
      ],
      "execution_count": 54,
      "outputs": [
        {
          "output_type": "stream",
          "text": [
            "Epoch [10/100], Loss: 637.4753\n",
            "Epoch [10/100], Loss: 149.0433\n",
            "Epoch [10/100], Loss: 62.8873\n",
            "Epoch [20/100], Loss: 197.8039\n",
            "Epoch [20/100], Loss: 304.6401\n",
            "Epoch [20/100], Loss: 63.9667\n",
            "Epoch [30/100], Loss: 59.4576\n",
            "Epoch [30/100], Loss: 221.1869\n",
            "Epoch [30/100], Loss: 110.7162\n",
            "Epoch [40/100], Loss: 129.7036\n",
            "Epoch [40/100], Loss: 52.2818\n",
            "Epoch [40/100], Loss: 89.0741\n",
            "Epoch [50/100], Loss: 97.6824\n",
            "Epoch [50/100], Loss: 61.4709\n",
            "Epoch [50/100], Loss: 23.0399\n",
            "Epoch [60/100], Loss: 47.5042\n",
            "Epoch [60/100], Loss: 34.6245\n",
            "Epoch [60/100], Loss: 43.6705\n",
            "Epoch [70/100], Loss: 29.2052\n",
            "Epoch [70/100], Loss: 27.8113\n",
            "Epoch [70/100], Loss: 29.5644\n",
            "Epoch [80/100], Loss: 20.1398\n",
            "Epoch [80/100], Loss: 16.5588\n",
            "Epoch [80/100], Loss: 24.4178\n",
            "Epoch [90/100], Loss: 6.9744\n",
            "Epoch [90/100], Loss: 18.2563\n",
            "Epoch [90/100], Loss: 18.4065\n",
            "Epoch [100/100], Loss: 15.0664\n",
            "Epoch [100/100], Loss: 8.9576\n",
            "Epoch [100/100], Loss: 7.1713\n"
          ],
          "name": "stdout"
        }
      ]
    },
    {
      "cell_type": "code",
      "metadata": {
        "id": "MehQAkv-hId2",
        "colab_type": "code",
        "colab": {
          "base_uri": "https://localhost:8080/",
          "height": 298
        },
        "outputId": "987c4584-5573-4e42-855d-309bff768b51"
      },
      "source": [
        "# Generate predictions\n",
        "preds = model(inputs)\n",
        "preds"
      ],
      "execution_count": 55,
      "outputs": [
        {
          "output_type": "execute_result",
          "data": {
            "text/plain": [
              "tensor([[ 58.1881,  71.1185],\n",
              "        [ 81.8783, 100.9626],\n",
              "        [117.4116, 130.8068],\n",
              "        [ 27.3943,  41.8068],\n",
              "        [ 97.6591, 116.8709],\n",
              "        [ 58.1881,  71.1185],\n",
              "        [ 81.8783, 100.9626],\n",
              "        [117.4116, 130.8068],\n",
              "        [ 27.3943,  41.8068],\n",
              "        [ 97.6591, 116.8709],\n",
              "        [ 58.1881,  71.1185],\n",
              "        [ 81.8783, 100.9626],\n",
              "        [117.4116, 130.8068],\n",
              "        [ 27.3943,  41.8068],\n",
              "        [ 97.6591, 116.8709]], grad_fn=<AddmmBackward>)"
            ]
          },
          "metadata": {
            "tags": []
          },
          "execution_count": 55
        }
      ]
    },
    {
      "cell_type": "code",
      "metadata": {
        "id": "1BMeE8eiiEdX",
        "colab_type": "code",
        "colab": {
          "base_uri": "https://localhost:8080/",
          "height": 298
        },
        "outputId": "178e6ee5-e5a4-420a-9621-2ba995641bbb"
      },
      "source": [
        "\n",
        "# Compare with targets\n",
        "targets"
      ],
      "execution_count": 56,
      "outputs": [
        {
          "output_type": "execute_result",
          "data": {
            "text/plain": [
              "tensor([[ 56.,  70.],\n",
              "        [ 81., 101.],\n",
              "        [119., 133.],\n",
              "        [ 22.,  37.],\n",
              "        [103., 119.],\n",
              "        [ 56.,  70.],\n",
              "        [ 81., 101.],\n",
              "        [119., 133.],\n",
              "        [ 22.,  37.],\n",
              "        [103., 119.],\n",
              "        [ 56.,  70.],\n",
              "        [ 81., 101.],\n",
              "        [119., 133.],\n",
              "        [ 22.,  37.],\n",
              "        [103., 119.]])"
            ]
          },
          "metadata": {
            "tags": []
          },
          "execution_count": 56
        }
      ]
    },
    {
      "cell_type": "code",
      "metadata": {
        "id": "ZAGUXVIBiGqE",
        "colab_type": "code",
        "colab": {}
      },
      "source": [
        ""
      ],
      "execution_count": null,
      "outputs": []
    }
  ]
}