{
  "nbformat": 4,
  "nbformat_minor": 0,
  "metadata": {
    "colab": {
      "name": "Linear Regression.ipynb",
      "provenance": [],
      "collapsed_sections": [],
      "authorship_tag": "ABX9TyNEJ9CsSoc151i0xGXkrUeQ",
      "include_colab_link": true
    },
    "kernelspec": {
      "name": "python3",
      "display_name": "Python 3"
    }
  },
  "cells": [
    {
      "cell_type": "markdown",
      "metadata": {
        "id": "view-in-github",
        "colab_type": "text"
      },
      "source": [
        "<a href=\"https://colab.research.google.com/github/ahmedabdelhameed/PyTorch/blob/master/Linear_Regression.ipynb\" target=\"_parent\"><img src=\"https://colab.research.google.com/assets/colab-badge.svg\" alt=\"Open In Colab\"/></a>"
      ]
    },
    {
      "cell_type": "markdown",
      "metadata": {
        "id": "1NUKyPuQ7oRa"
      },
      "source": [
        "#Model 1"
      ]
    },
    {
      "cell_type": "code",
      "metadata": {
        "id": "VuYZXEC0QcxM"
      },
      "source": [
        "import torch\n",
        "from torch.nn import Linear\n",
        "import torch.nn as nn\n",
        "import matplotlib.pyplot as plt\n",
        "import numpy as np"
      ],
      "execution_count": 3,
      "outputs": []
    },
    {
      "cell_type": "code",
      "metadata": {
        "id": "80dRd9S27NM0"
      },
      "source": [
        "x_data = np.array([1, 2, 3, 4, 5])\n",
        "y_data = x_data * 2"
      ],
      "execution_count": 5,
      "outputs": []
    },
    {
      "cell_type": "code",
      "metadata": {
        "colab": {
          "base_uri": "https://localhost:8080/",
          "height": 283
        },
        "id": "EfDb8oWL7Pmd",
        "outputId": "811b358d-769b-472d-eadc-7d2c1173d198"
      },
      "source": [
        "plt.scatter(x_data, y_data)"
      ],
      "execution_count": 6,
      "outputs": [
        {
          "output_type": "execute_result",
          "data": {
            "text/plain": [
              "<matplotlib.collections.PathCollection at 0x7f130424f690>"
            ]
          },
          "metadata": {},
          "execution_count": 6
        },
        {
          "output_type": "display_data",
          "data": {
            "image/png": "[encoded data removed]",
            "text/plain": [
              "<Figure size 432x288 with 1 Axes>"
            ]
          },
          "metadata": {
            "needs_background": "light"
          }
        }
      ]
    },
    {
      "cell_type": "code",
      "metadata": {
        "id": "4gg9csrY7SCX"
      },
      "source": [
        "def forward(x, w, b=0):\n",
        "  y_hat = x * w + b\n",
        "  return y_hat"
      ],
      "execution_count": 7,
      "outputs": []
    },
    {
      "cell_type": "code",
      "metadata": {
        "id": "OXnVyzrj7T0c"
      },
      "source": [
        "def loss(y_hat, y):\n",
        "  return (y_hat - y) ** 2"
      ],
      "execution_count": 8,
      "outputs": []
    },
    {
      "cell_type": "code",
      "metadata": {
        "id": "8LI_Fz4n7WIm"
      },
      "source": [
        "all_w = []\n",
        "all_loss = []\n",
        "\n",
        "for w in np.arange(0, 4, 0.1):\n",
        "  l_sum = 0\n",
        "\n",
        "  for i in range(len(x_data)):\n",
        "    y_hat = forward(x_data[i], w)\n",
        "    l = loss(y_hat, y_data[i])\n",
        "\n",
        "    l_sum += l\n",
        "  \n",
        "  all_w.append(w)\n",
        "  all_loss.append(l_sum / len(y_data))"
      ],
      "execution_count": 9,
      "outputs": []
    },
    {
      "cell_type": "code",
      "metadata": {
        "colab": {
          "base_uri": "https://localhost:8080/",
          "height": 339
        },
        "id": "t0ZOsx1B7XqX",
        "outputId": "fd62ad95-22e2-4536-9d75-d1798858b1df"
      },
      "source": [
        "plt.stem(all_w, all_loss)"
      ],
      "execution_count": 10,
      "outputs": [
        {
          "output_type": "stream",
          "name": "stderr",
          "text": [
            "/usr/local/lib/python3.7/dist-packages/ipykernel_launcher.py:1: UserWarning: In Matplotlib 3.3 individual lines on a stem plot will be added as a LineCollection instead of individual lines. This significantly improves the performance of a stem plot. To remove this warning and switch to the new behaviour, set the \"use_line_collection\" keyword argument to True.\n",
            "  \"\"\"Entry point for launching an IPython kernel.\n"
          ]
        },
        {
          "output_type": "execute_result",
          "data": {
            "text/plain": [
              "<StemContainer object of 3 artists>"
            ]
          },
          "metadata": {},
          "execution_count": 10
        },
        {
          "output_type": "display_data",
          "data": {
            "image/png": "[encoded data removed]",
            "text/plain": [
              "<Figure size 432x288 with 1 Axes>"
            ]
          },
          "metadata": {
            "needs_background": "light"
          }
        }
      ]
    },
    {
      "cell_type": "markdown",
      "metadata": {
        "id": "YBKHzGje7sYH"
      },
      "source": [
        "#Model 2"
      ]
    },
    {
      "cell_type": "code",
      "metadata": {
        "id": "i0XX0zYD7wfN"
      },
      "source": [
        "import torch\n",
        "from torch.nn import Linear\n",
        "import torch.nn as nn\n",
        "import matplotlib.pyplot as plt\n",
        "import numpy as np"
      ],
      "execution_count": 11,
      "outputs": []
    },
    {
      "cell_type": "code",
      "metadata": {
        "id": "3Wp9hBMS74g1"
      },
      "source": [
        "x_data = np.array([1, 2, 3, 4, 5])\n",
        "y_data = x_data * 2"
      ],
      "execution_count": 12,
      "outputs": []
    },
    {
      "cell_type": "code",
      "metadata": {
        "id": "wJT_i4Ej75az"
      },
      "source": [
        "x_torch = torch.Tensor(x_data).reshape(-1,1)\n",
        "y_torch = torch.FloatTensor(y_data).reshape(-1,1)"
      ],
      "execution_count": 13,
      "outputs": []
    },
    {
      "cell_type": "code",
      "metadata": {
        "colab": {
          "base_uri": "https://localhost:8080/"
        },
        "id": "5MP350Qb8PoT",
        "outputId": "bbf69a9c-a9d7-45de-be04-efe8c188b148"
      },
      "source": [
        "x_torch"
      ],
      "execution_count": 15,
      "outputs": [
        {
          "output_type": "execute_result",
          "data": {
            "text/plain": [
              "tensor([[1.],\n",
              "        [2.],\n",
              "        [3.],\n",
              "        [4.],\n",
              "        [5.]])"
            ]
          },
          "metadata": {},
          "execution_count": 15
        }
      ]
    },
    {
      "cell_type": "code",
      "metadata": {
        "colab": {
          "base_uri": "https://localhost:8080/"
        },
        "id": "7wJNxMtI8UYm",
        "outputId": "1e8456d7-2315-42d5-fa84-cc6025d38083"
      },
      "source": [
        "y_torch"
      ],
      "execution_count": 16,
      "outputs": [
        {
          "output_type": "execute_result",
          "data": {
            "text/plain": [
              "tensor([[ 2.],\n",
              "        [ 4.],\n",
              "        [ 6.],\n",
              "        [ 8.],\n",
              "        [10.]])"
            ]
          },
          "metadata": {},
          "execution_count": 16
        }
      ]
    },
    {
      "cell_type": "code",
      "metadata": {
        "id": "V19f9OD_8dW6"
      },
      "source": [
        "w = torch.tensor(5., requires_grad=True)\n",
        "b = torch.tensor(3., requires_grad=True)\n",
        "lr = 0.05"
      ],
      "execution_count": 19,
      "outputs": []
    },
    {
      "cell_type": "code",
      "metadata": {
        "id": "08357WAo_UAu"
      },
      "source": [
        "for i in range(1000):\n",
        "  y_hat = x_torch * w + b\n",
        "\n",
        "  loss = torch.sum(torch.pow(y_torch - y_hat, 2) / len(y_torch))\n",
        "  loss.backward()\n",
        "  \n",
        "  with torch.no_grad():\n",
        "    w -= lr * w.grad\n",
        "    b -= lr * b.grad\n",
        "\n",
        "    w.grad.zero_()\n",
        "    b.grad.zero_()"
      ],
      "execution_count": 20,
      "outputs": []
    },
    {
      "cell_type": "code",
      "metadata": {
        "id": "oimE65bc_81M"
      },
      "source": [
        "y_pred = x_torch * w + b"
      ],
      "execution_count": 21,
      "outputs": []
    },
    {
      "cell_type": "code",
      "metadata": {
        "colab": {
          "base_uri": "https://localhost:8080/"
        },
        "id": "xhX00zbDAB4w",
        "outputId": "2638fe18-57a4-427b-fdcf-c880e1482e3b"
      },
      "source": [
        "y_pred"
      ],
      "execution_count": 22,
      "outputs": [
        {
          "output_type": "execute_result",
          "data": {
            "text/plain": [
              "tensor([[ 2.0000],\n",
              "        [ 4.0000],\n",
              "        [ 6.0000],\n",
              "        [ 8.0000],\n",
              "        [10.0000]], grad_fn=<AddBackward0>)"
            ]
          },
          "metadata": {},
          "execution_count": 22
        }
      ]
    },
    {
      "cell_type": "code",
      "metadata": {
        "colab": {
          "base_uri": "https://localhost:8080/",
          "height": 283
        },
        "id": "m8vJNcDbAIde",
        "outputId": "38f76e77-db31-40d0-9569-37dd152fd2c5"
      },
      "source": [
        "plt.plot(x_torch, y_torch, 'go')\n",
        "#Can't do plt.plot(x_torch, y_pred, '--')\n",
        "#Can't call numpy() on Tensor that requires grad. Use tensor.detach().numpy() instead.\n",
        "plt.plot(x_torch, y_pred.detach().numpy(), '--')"
      ],
      "execution_count": 25,
      "outputs": [
        {
          "output_type": "execute_result",
          "data": {
            "text/plain": [
              "[<matplotlib.lines.Line2D at 0x7f13038d2ad0>]"
            ]
          },
          "metadata": {},
          "execution_count": 25
        },
        {
          "output_type": "display_data",
          "data": {
            "image/png": "[encoded data removed]",
            "text/plain": [
              "<Figure size 432x288 with 1 Axes>"
            ]
          },
          "metadata": {
            "needs_background": "light"
          }
        }
      ]
    },
    {
      "cell_type": "code",
      "metadata": {
        "colab": {
          "base_uri": "https://localhost:8080/"
        },
        "id": "Iml0uQsGA4Wq",
        "outputId": "72dc6446-fd7e-4b64-fe91-5af1725f221c"
      },
      "source": [
        "w, b"
      ],
      "execution_count": 26,
      "outputs": [
        {
          "output_type": "execute_result",
          "data": {
            "text/plain": [
              "(tensor(2.0000, requires_grad=True), tensor(7.2257e-07, requires_grad=True))"
            ]
          },
          "metadata": {},
          "execution_count": 26
        }
      ]
    },
    {
      "cell_type": "markdown",
      "metadata": {
        "id": "ZL5bK02TDqmV"
      },
      "source": [
        "# Model3"
      ]
    },
    {
      "cell_type": "code",
      "metadata": {
        "id": "0xT1sTu0EMMQ"
      },
      "source": [
        "import torch\n",
        "from torch.nn import Linear\n",
        "import torch.nn as nn\n",
        "import matplotlib.pyplot as plt\n",
        "import numpy as np"
      ],
      "execution_count": 1,
      "outputs": []
    },
    {
      "cell_type": "code",
      "metadata": {
        "id": "Le6lmw13Dt9h"
      },
      "source": [
        "x = np.random.rand(50)\n",
        "x = x * 10\n",
        "y = x * 3 - 4\n",
        "y += np.random.randn(50)"
      ],
      "execution_count": 2,
      "outputs": []
    },
    {
      "cell_type": "code",
      "metadata": {
        "id": "tyEHd4W2DjQ3"
      },
      "source": [
        "class LinearModel(nn.Module):\n",
        "  def __init__(self):\n",
        "    super(LinearModel,self).__init__()\n",
        "    self.linear = nn.Linear(1,1)\n",
        "\n",
        "  def forward(self, x):\n",
        "    return self.linear(x)"
      ],
      "execution_count": 10,
      "outputs": []
    },
    {
      "cell_type": "code",
      "metadata": {
        "id": "2astmiIxh6fR"
      },
      "source": [
        "x_torch = torch.FloatTensor(x).reshape(-1,1)\n",
        "y_torch = torch.FloatTensor(y).reshape(-1, 1)"
      ],
      "execution_count": 11,
      "outputs": []
    },
    {
      "cell_type": "code",
      "metadata": {
        "id": "JbEsTwvDiQIC"
      },
      "source": [
        "model = LinearModel()\n",
        "criterion = nn.MSELoss()\n",
        "optimizer = torch.optim.SGD(model.parameters(), lr=0.01)"
      ],
      "execution_count": 13,
      "outputs": []
    },
    {
      "cell_type": "code",
      "metadata": {
        "id": "RNtrnhoji3D9"
      },
      "source": [
        "all_loss = []\n",
        "for epoch in range(100):\n",
        "  y_hat = model(x_torch)\n",
        "  loss = criterion(y_hat, y_torch)\n",
        "  loss.backward()\n",
        "\n",
        "  all_loss.append(loss.item())\n",
        "\n",
        "  optimizer.step()\n",
        "  optimizer.zero_grad()"
      ],
      "execution_count": 15,
      "outputs": []
    },
    {
      "cell_type": "code",
      "metadata": {
        "id": "y_xnMCd7jskz"
      },
      "source": [
        "y_pred = model.forward(x_torch)"
      ],
      "execution_count": 16,
      "outputs": []
    },
    {
      "cell_type": "code",
      "metadata": {
        "colab": {
          "base_uri": "https://localhost:8080/",
          "height": 283
        },
        "id": "0MJLVS5hjvRr",
        "outputId": "27ff8fcd-935a-4cd3-abfd-de400fb862af"
      },
      "source": [
        "plt.plot(x_torch, y_torch, 'go')\n",
        "plt.plot(x_torch, y_pred.detach().numpy(), '--')"
      ],
      "execution_count": 17,
      "outputs": [
        {
          "output_type": "execute_result",
          "data": {
            "text/plain": [
              "[<matplotlib.lines.Line2D at 0x7f844ec3c110>]"
            ]
          },
          "metadata": {},
          "execution_count": 17
        },
        {
          "output_type": "display_data",
          "data": {
            "image/png": "[encoded data removed]",
            "text/plain": [
              "<Figure size 432x288 with 1 Axes>"
            ]
          },
          "metadata": {
            "needs_background": "light"
          }
        }
      ]
    },
    {
      "cell_type": "code",
      "metadata": {
        "colab": {
          "base_uri": "https://localhost:8080/"
        },
        "id": "slkczczVj02u",
        "outputId": "fda0ad4c-1ad1-4c61-9b88-7130cb0247b8"
      },
      "source": [
        "for name, param in model.named_parameters():\n",
        "  print(name,param)"
      ],
      "execution_count": 18,
      "outputs": [
        {
          "output_type": "stream",
          "name": "stdout",
          "text": [
            "linear.weight Parameter containing:\n",
            "tensor([[2.5748]], requires_grad=True)\n",
            "linear.bias Parameter containing:\n",
            "tensor([-1.6062], requires_grad=True)\n"
          ]
        }
      ]
    },
    {
      "cell_type": "markdown",
      "metadata": {
        "id": "0neZ3b3eAkS2"
      },
      "source": [
        "#Model 4\n"
      ]
    },
    {
      "cell_type": "code",
      "metadata": {
        "id": "pv2hHW8mkU5i"
      },
      "source": [
        "import torch\n",
        "from torch.nn import Linear\n",
        "import torch.nn as nn\n",
        "import matplotlib.pyplot as plt\n",
        "import numpy as np"
      ],
      "execution_count": 19,
      "outputs": []
    },
    {
      "cell_type": "code",
      "metadata": {
        "id": "e-LyAptSsq7_"
      },
      "source": [
        "class LinearRegression(nn.Module):\n",
        "  def __init__(self, in_features, out_features):\n",
        "    super().__init__()\n",
        "    self.linear = nn.Linear(in_features, out_features)\n",
        "\n",
        "  def forward(self, x):\n",
        "    prediction = self.linear(x)\n",
        "    return prediction"
      ],
      "execution_count": 20,
      "outputs": []
    },
    {
      "cell_type": "code",
      "metadata": {
        "colab": {
          "base_uri": "https://localhost:8080/"
        },
        "id": "GxZgj0RgsvE2",
        "outputId": "30bcde80-5840-4345-cca2-421ff6f40449"
      },
      "source": [
        "torch.manual_seed(0)\n",
        "model = LinearRegression(1, 1)\n",
        "print (model)\n",
        "print (list(model.parameters()))"
      ],
      "execution_count": 21,
      "outputs": [
        {
          "output_type": "stream",
          "name": "stdout",
          "text": [
            "LinearRegression(\n",
            "  (linear): Linear(in_features=1, out_features=1, bias=True)\n",
            ")\n",
            "[Parameter containing:\n",
            "tensor([[-0.0075]], requires_grad=True), Parameter containing:\n",
            "tensor([0.5364], requires_grad=True)]\n"
          ]
        }
      ]
    },
    {
      "cell_type": "code",
      "metadata": {
        "colab": {
          "base_uri": "https://localhost:8080/",
          "height": 299
        },
        "id": "x2eQurhEV0a4",
        "outputId": "db574018-567e-4236-9ad9-8bc6010a1cd8"
      },
      "source": [
        "x = torch.randn(100, 1) * 10\n",
        "y = x + 5 * torch.randn(100, 1)\n",
        "plt.plot(x, y, 'o')\n",
        "plt.xlabel('x')\n",
        "plt.ylabel('y')"
      ],
      "execution_count": 22,
      "outputs": [
        {
          "output_type": "execute_result",
          "data": {
            "text/plain": [
              "Text(0, 0.5, 'y')"
            ]
          },
          "metadata": {},
          "execution_count": 22
        },
        {
          "output_type": "display_data",
          "data": {
            "image/png": "[encoded data removed]",
            "text/plain": [
              "<Figure size 432x288 with 1 Axes>"
            ]
          },
          "metadata": {
            "needs_background": "light"
          }
        }
      ]
    },
    {
      "cell_type": "code",
      "metadata": {
        "colab": {
          "base_uri": "https://localhost:8080/",
          "height": 267
        },
        "id": "zICWxH8CinlB",
        "outputId": "9670ff36-5c5c-4f5b-8296-c209d860c8a4"
      },
      "source": [
        "[w, b] = model.parameters() \n",
        "\n",
        "def get_parameters():\n",
        "  return w[0][0].item(), b[0].item()\n",
        "def plot_line():\n",
        "  w1, b1 = get_parameters()\n",
        "  # To plot a line, we just need two data points\n",
        "  x1 = np.array([-30, 30]) \n",
        "  y1 = w1*x1 + b1\n",
        "  plt.plot(x1, y1, color='orange')\n",
        "  plt.scatter(x, y)\n",
        "  plt.show()\n",
        "plot_line()"
      ],
      "execution_count": 23,
      "outputs": [
        {
          "output_type": "display_data",
          "data": {
            "image/png": "[encoded data removed]",
            "text/plain": [
              "<Figure size 432x288 with 1 Axes>"
            ]
          },
          "metadata": {
            "needs_background": "light"
          }
        }
      ]
    },
    {
      "cell_type": "code",
      "metadata": {
        "id": "-cHdChMNljPc"
      },
      "source": [
        "criterion = nn.MSELoss()\n",
        "optimizer = torch.optim.SGD(model.parameters(), lr = 0.01)\n",
        "\n",
        "epochs = 100\n",
        "losses = []\n",
        "\n",
        "for i in range(epochs):\n",
        "  optimizer.zero_grad()\n",
        "  output = model(x)\n",
        "  loss = criterion(output, y)\n",
        "  \n",
        "  losses.append(loss)\n",
        "  \n",
        "  loss.backward()\n",
        "  optimizer.step()"
      ],
      "execution_count": 24,
      "outputs": []
    },
    {
      "cell_type": "code",
      "metadata": {
        "colab": {
          "base_uri": "https://localhost:8080/",
          "height": 297
        },
        "id": "4tULUhH5WTRe",
        "outputId": "f2083ef9-58ac-48b4-88c1-03aa864aa502"
      },
      "source": [
        "plt.plot(range(epochs), losses)\n",
        "plt.ylabel(\"Loss\")\n",
        "plt.xlabel(\"epoch\")"
      ],
      "execution_count": 25,
      "outputs": [
        {
          "output_type": "execute_result",
          "data": {
            "text/plain": [
              "Text(0.5, 0, 'epoch')"
            ]
          },
          "metadata": {},
          "execution_count": 25
        },
        {
          "output_type": "display_data",
          "data": {
            "image/png": "[encoded data removed]",
            "text/plain": [
              "<Figure size 432x288 with 1 Axes>"
            ]
          },
          "metadata": {
            "needs_background": "light"
          }
        }
      ]
    },
    {
      "cell_type": "code",
      "metadata": {
        "colab": {
          "base_uri": "https://localhost:8080/",
          "height": 265
        },
        "id": "Op-f7bMgWbsl",
        "outputId": "74f7a222-fe40-428e-b279-48576ba2a912"
      },
      "source": [
        "plot_line()"
      ],
      "execution_count": 26,
      "outputs": [
        {
          "output_type": "display_data",
          "data": {
            "image/png": "[encoded data removed]",
            "text/plain": [
              "<Figure size 432x288 with 1 Axes>"
            ]
          },
          "metadata": {
            "needs_background": "light"
          }
        }
      ]
    },
    {
      "cell_type": "markdown",
      "metadata": {
        "id": "yqQmUy7iXE_r"
      },
      "source": [
        "#Model 5"
      ]
    },
    {
      "cell_type": "code",
      "metadata": {
        "id": "Lq7uNg3Sk5w5"
      },
      "source": [
        "import torch\n",
        "from torch.nn import Linear\n",
        "import torch.nn as nn\n",
        "import matplotlib.pyplot as plt\n",
        "import numpy as np"
      ],
      "execution_count": 27,
      "outputs": []
    },
    {
      "cell_type": "code",
      "metadata": {
        "id": "TCDkJsdIxLOB"
      },
      "source": [
        "import numpy as np# create dummy data for training\n",
        "x_values = [i for i in range(11)]\n",
        "x_train = np.array(x_values, dtype=np.float32)\n",
        "x_train = x_train.reshape(-1, 1)\n",
        "\n",
        "y_values = [2*i + 1 for i in x_values]\n",
        "y_train = np.array(y_values, dtype=np.float32)\n",
        "y_train = y_train.reshape(-1, 1)"
      ],
      "execution_count": 28,
      "outputs": []
    },
    {
      "cell_type": "code",
      "metadata": {
        "id": "PEmTEEy0KYTI"
      },
      "source": [
        "import torch\n",
        "from torch.autograd import Variable"
      ],
      "execution_count": 29,
      "outputs": []
    },
    {
      "cell_type": "code",
      "metadata": {
        "id": "tIYBjCYZKfYU"
      },
      "source": [
        "class linearRegression(torch.nn.Module):\n",
        "    def __init__(self, inputSize, outputSize):\n",
        "        super(linearRegression, self).__init__()\n",
        "        self.linear = torch.nn.Linear(inputSize, outputSize)\n",
        "\n",
        "    def forward(self, x):\n",
        "        out = self.linear(x)\n",
        "        return out"
      ],
      "execution_count": 30,
      "outputs": []
    },
    {
      "cell_type": "code",
      "metadata": {
        "id": "oGGjGoqyKr8o"
      },
      "source": [
        "inputDim = 1        # takes variable 'x' \n",
        "outputDim = 1       # takes variable 'y'\n",
        "learningRate = 0.01 \n",
        "epochs = 100\n",
        "\n",
        "model = linearRegression(inputDim, outputDim)\n",
        "##### For GPU #######\n",
        "if torch.cuda.is_available():\n",
        "    model.cuda()"
      ],
      "execution_count": 31,
      "outputs": []
    },
    {
      "cell_type": "code",
      "metadata": {
        "id": "LBMeJn6yXL7S"
      },
      "source": [
        "criterion = torch.nn.MSELoss() \n",
        "optimizer = torch.optim.SGD(model.parameters(), lr=learningRate)"
      ],
      "execution_count": 32,
      "outputs": []
    },
    {
      "cell_type": "code",
      "metadata": {
        "colab": {
          "base_uri": "https://localhost:8080/"
        },
        "id": "Wy4GOxZEXP7P",
        "outputId": "7287606b-83e5-4655-8f77-8f54a45e26d4"
      },
      "source": [
        "for epoch in range(epochs):\n",
        "    # Converting inputs and labels to Variable\n",
        "    if torch.cuda.is_available():\n",
        "        inputs = Variable(torch.from_numpy(x_train).cuda())\n",
        "        labels = Variable(torch.from_numpy(y_train).cuda())\n",
        "    else:\n",
        "        inputs = Variable(torch.from_numpy(x_train))\n",
        "        labels = Variable(torch.from_numpy(y_train))\n",
        "\n",
        "    # Clear gradient buffers because we don't want any gradient from previous epoch to carry forward, dont want to cummulate gradients\n",
        "    optimizer.zero_grad()\n",
        "\n",
        "    # get output from the model, given the inputs\n",
        "    outputs = model(inputs)\n",
        "\n",
        "    # get loss for the predicted output\n",
        "    loss = criterion(outputs, labels)\n",
        "    print(loss)\n",
        "    # get gradients w.r.t to parameters\n",
        "    loss.backward()\n",
        "\n",
        "    # update parameters\n",
        "    optimizer.step()\n",
        "\n",
        "    print('epoch {}, loss {}'.format(epoch, loss.item()))"
      ],
      "execution_count": 33,
      "outputs": [
        {
          "output_type": "stream",
          "name": "stdout",
          "text": [
            "tensor(92.7809, grad_fn=<MseLossBackward>)\n",
            "epoch 0, loss 92.78092956542969\n",
            "tensor(8.0783, grad_fn=<MseLossBackward>)\n",
            "epoch 1, loss 8.07831859588623\n",
            "tensor(1.1637, grad_fn=<MseLossBackward>)\n",
            "epoch 2, loss 1.1636912822723389\n",
            "tensor(0.5941, grad_fn=<MseLossBackward>)\n",
            "epoch 3, loss 0.5940503478050232\n",
            "tensor(0.5420, grad_fn=<MseLossBackward>)\n",
            "epoch 4, loss 0.542012631893158\n",
            "tensor(0.5323, grad_fn=<MseLossBackward>)\n",
            "epoch 5, loss 0.5322566628456116\n",
            "tensor(0.5260, grad_fn=<MseLossBackward>)\n",
            "epoch 6, loss 0.526011049747467\n",
            "tensor(0.5201, grad_fn=<MseLossBackward>)\n",
            "epoch 7, loss 0.5201122164726257\n",
            "tensor(0.5143, grad_fn=<MseLossBackward>)\n",
            "epoch 8, loss 0.5143018960952759\n",
            "tensor(0.5086, grad_fn=<MseLossBackward>)\n",
            "epoch 9, loss 0.5085587501525879\n",
            "tensor(0.5029, grad_fn=<MseLossBackward>)\n",
            "epoch 10, loss 0.5028800964355469\n",
            "tensor(0.4973, grad_fn=<MseLossBackward>)\n",
            "epoch 11, loss 0.49726441502571106\n",
            "tensor(0.4917, grad_fn=<MseLossBackward>)\n",
            "epoch 12, loss 0.4917116165161133\n",
            "tensor(0.4862, grad_fn=<MseLossBackward>)\n",
            "epoch 13, loss 0.4862203598022461\n",
            "tensor(0.4808, grad_fn=<MseLossBackward>)\n",
            "epoch 14, loss 0.48079147934913635\n",
            "tensor(0.4754, grad_fn=<MseLossBackward>)\n",
            "epoch 15, loss 0.4754222631454468\n",
            "tensor(0.4701, grad_fn=<MseLossBackward>)\n",
            "epoch 16, loss 0.4701133072376251\n",
            "tensor(0.4649, grad_fn=<MseLossBackward>)\n",
            "epoch 17, loss 0.46486374735832214\n",
            "tensor(0.4597, grad_fn=<MseLossBackward>)\n",
            "epoch 18, loss 0.4596724510192871\n",
            "tensor(0.4545, grad_fn=<MseLossBackward>)\n",
            "epoch 19, loss 0.45453959703445435\n",
            "tensor(0.4495, grad_fn=<MseLossBackward>)\n",
            "epoch 20, loss 0.44946345686912537\n",
            "tensor(0.4444, grad_fn=<MseLossBackward>)\n",
            "epoch 21, loss 0.44444453716278076\n",
            "tensor(0.4395, grad_fn=<MseLossBackward>)\n",
            "epoch 22, loss 0.43948155641555786\n",
            "tensor(0.4346, grad_fn=<MseLossBackward>)\n",
            "epoch 23, loss 0.434573769569397\n",
            "tensor(0.4297, grad_fn=<MseLossBackward>)\n",
            "epoch 24, loss 0.42972099781036377\n",
            "tensor(0.4249, grad_fn=<MseLossBackward>)\n",
            "epoch 25, loss 0.424922376871109\n",
            "tensor(0.4202, grad_fn=<MseLossBackward>)\n",
            "epoch 26, loss 0.4201775789260864\n",
            "tensor(0.4155, grad_fn=<MseLossBackward>)\n",
            "epoch 27, loss 0.4154857397079468\n",
            "tensor(0.4108, grad_fn=<MseLossBackward>)\n",
            "epoch 28, loss 0.41084548830986023\n",
            "tensor(0.4063, grad_fn=<MseLossBackward>)\n",
            "epoch 29, loss 0.4062579274177551\n",
            "tensor(0.4017, grad_fn=<MseLossBackward>)\n",
            "epoch 30, loss 0.4017210900783539\n",
            "tensor(0.3972, grad_fn=<MseLossBackward>)\n",
            "epoch 31, loss 0.3972355127334595\n",
            "tensor(0.3928, grad_fn=<MseLossBackward>)\n",
            "epoch 32, loss 0.39279934763908386\n",
            "tensor(0.3884, grad_fn=<MseLossBackward>)\n",
            "epoch 33, loss 0.3884134292602539\n",
            "tensor(0.3841, grad_fn=<MseLossBackward>)\n",
            "epoch 34, loss 0.3840758502483368\n",
            "tensor(0.3798, grad_fn=<MseLossBackward>)\n",
            "epoch 35, loss 0.37978678941726685\n",
            "tensor(0.3755, grad_fn=<MseLossBackward>)\n",
            "epoch 36, loss 0.37554559111595154\n",
            "tensor(0.3714, grad_fn=<MseLossBackward>)\n",
            "epoch 37, loss 0.3713522255420685\n",
            "tensor(0.3672, grad_fn=<MseLossBackward>)\n",
            "epoch 38, loss 0.36720532178878784\n",
            "tensor(0.3631, grad_fn=<MseLossBackward>)\n",
            "epoch 39, loss 0.363104909658432\n",
            "tensor(0.3590, grad_fn=<MseLossBackward>)\n",
            "epoch 40, loss 0.3590499460697174\n",
            "tensor(0.3550, grad_fn=<MseLossBackward>)\n",
            "epoch 41, loss 0.35504046082496643\n",
            "tensor(0.3511, grad_fn=<MseLossBackward>)\n",
            "epoch 42, loss 0.35107606649398804\n",
            "tensor(0.3472, grad_fn=<MseLossBackward>)\n",
            "epoch 43, loss 0.34715536236763\n",
            "tensor(0.3433, grad_fn=<MseLossBackward>)\n",
            "epoch 44, loss 0.3432788550853729\n",
            "tensor(0.3394, grad_fn=<MseLossBackward>)\n",
            "epoch 45, loss 0.3394453227519989\n",
            "tensor(0.3357, grad_fn=<MseLossBackward>)\n",
            "epoch 46, loss 0.3356551229953766\n",
            "tensor(0.3319, grad_fn=<MseLossBackward>)\n",
            "epoch 47, loss 0.33190682530403137\n",
            "tensor(0.3282, grad_fn=<MseLossBackward>)\n",
            "epoch 48, loss 0.3282005190849304\n",
            "tensor(0.3245, grad_fn=<MseLossBackward>)\n",
            "epoch 49, loss 0.32453563809394836\n",
            "tensor(0.3209, grad_fn=<MseLossBackward>)\n",
            "epoch 50, loss 0.32091137766838074\n",
            "tensor(0.3173, grad_fn=<MseLossBackward>)\n",
            "epoch 51, loss 0.3173278570175171\n",
            "tensor(0.3138, grad_fn=<MseLossBackward>)\n",
            "epoch 52, loss 0.31378456950187683\n",
            "tensor(0.3103, grad_fn=<MseLossBackward>)\n",
            "epoch 53, loss 0.31028053164482117\n",
            "tensor(0.3068, grad_fn=<MseLossBackward>)\n",
            "epoch 54, loss 0.30681565403938293\n",
            "tensor(0.3034, grad_fn=<MseLossBackward>)\n",
            "epoch 55, loss 0.30338913202285767\n",
            "tensor(0.3000, grad_fn=<MseLossBackward>)\n",
            "epoch 56, loss 0.3000014126300812\n",
            "tensor(0.2967, grad_fn=<MseLossBackward>)\n",
            "epoch 57, loss 0.2966514229774475\n",
            "tensor(0.2933, grad_fn=<MseLossBackward>)\n",
            "epoch 58, loss 0.293338805437088\n",
            "tensor(0.2901, grad_fn=<MseLossBackward>)\n",
            "epoch 59, loss 0.2900630533695221\n",
            "tensor(0.2868, grad_fn=<MseLossBackward>)\n",
            "epoch 60, loss 0.2868240773677826\n",
            "tensor(0.2836, grad_fn=<MseLossBackward>)\n",
            "epoch 61, loss 0.283621221780777\n",
            "tensor(0.2805, grad_fn=<MseLossBackward>)\n",
            "epoch 62, loss 0.28045403957366943\n",
            "tensor(0.2773, grad_fn=<MseLossBackward>)\n",
            "epoch 63, loss 0.27732208371162415\n",
            "tensor(0.2742, grad_fn=<MseLossBackward>)\n",
            "epoch 64, loss 0.27422529458999634\n",
            "tensor(0.2712, grad_fn=<MseLossBackward>)\n",
            "epoch 65, loss 0.2711630165576935\n",
            "tensor(0.2681, grad_fn=<MseLossBackward>)\n",
            "epoch 66, loss 0.2681348919868469\n",
            "tensor(0.2651, grad_fn=<MseLossBackward>)\n",
            "epoch 67, loss 0.26514071226119995\n",
            "tensor(0.2622, grad_fn=<MseLossBackward>)\n",
            "epoch 68, loss 0.2621802091598511\n",
            "tensor(0.2593, grad_fn=<MseLossBackward>)\n",
            "epoch 69, loss 0.2592521905899048\n",
            "tensor(0.2564, grad_fn=<MseLossBackward>)\n",
            "epoch 70, loss 0.2563571035861969\n",
            "tensor(0.2535, grad_fn=<MseLossBackward>)\n",
            "epoch 71, loss 0.25349462032318115\n",
            "tensor(0.2507, grad_fn=<MseLossBackward>)\n",
            "epoch 72, loss 0.25066399574279785\n",
            "tensor(0.2479, grad_fn=<MseLossBackward>)\n",
            "epoch 73, loss 0.24786478281021118\n",
            "tensor(0.2451, grad_fn=<MseLossBackward>)\n",
            "epoch 74, loss 0.24509677290916443\n",
            "tensor(0.2424, grad_fn=<MseLossBackward>)\n",
            "epoch 75, loss 0.242359921336174\n",
            "tensor(0.2397, grad_fn=<MseLossBackward>)\n",
            "epoch 76, loss 0.23965336382389069\n",
            "tensor(0.2370, grad_fn=<MseLossBackward>)\n",
            "epoch 77, loss 0.23697705566883087\n",
            "tensor(0.2343, grad_fn=<MseLossBackward>)\n",
            "epoch 78, loss 0.23433107137680054\n",
            "tensor(0.2317, grad_fn=<MseLossBackward>)\n",
            "epoch 79, loss 0.23171426355838776\n",
            "tensor(0.2291, grad_fn=<MseLossBackward>)\n",
            "epoch 80, loss 0.22912664711475372\n",
            "tensor(0.2266, grad_fn=<MseLossBackward>)\n",
            "epoch 81, loss 0.22656802833080292\n",
            "tensor(0.2240, grad_fn=<MseLossBackward>)\n",
            "epoch 82, loss 0.22403810918331146\n",
            "tensor(0.2215, grad_fn=<MseLossBackward>)\n",
            "epoch 83, loss 0.22153621912002563\n",
            "tensor(0.2191, grad_fn=<MseLossBackward>)\n",
            "epoch 84, loss 0.21906237304210663\n",
            "tensor(0.2166, grad_fn=<MseLossBackward>)\n",
            "epoch 85, loss 0.21661615371704102\n",
            "tensor(0.2142, grad_fn=<MseLossBackward>)\n",
            "epoch 86, loss 0.21419721841812134\n",
            "tensor(0.2118, grad_fn=<MseLossBackward>)\n",
            "epoch 87, loss 0.21180519461631775\n",
            "tensor(0.2094, grad_fn=<MseLossBackward>)\n",
            "epoch 88, loss 0.2094401717185974\n",
            "tensor(0.2071, grad_fn=<MseLossBackward>)\n",
            "epoch 89, loss 0.20710134506225586\n",
            "tensor(0.2048, grad_fn=<MseLossBackward>)\n",
            "epoch 90, loss 0.20478858053684235\n",
            "tensor(0.2025, grad_fn=<MseLossBackward>)\n",
            "epoch 91, loss 0.20250187814235687\n",
            "tensor(0.2002, grad_fn=<MseLossBackward>)\n",
            "epoch 92, loss 0.20024046301841736\n",
            "tensor(0.1980, grad_fn=<MseLossBackward>)\n",
            "epoch 93, loss 0.198004350066185\n",
            "tensor(0.1958, grad_fn=<MseLossBackward>)\n",
            "epoch 94, loss 0.19579347968101501\n",
            "tensor(0.1936, grad_fn=<MseLossBackward>)\n",
            "epoch 95, loss 0.19360707700252533\n",
            "tensor(0.1914, grad_fn=<MseLossBackward>)\n",
            "epoch 96, loss 0.19144506752490997\n",
            "tensor(0.1893, grad_fn=<MseLossBackward>)\n",
            "epoch 97, loss 0.18930725753307343\n",
            "tensor(0.1872, grad_fn=<MseLossBackward>)\n",
            "epoch 98, loss 0.18719330430030823\n",
            "tensor(0.1851, grad_fn=<MseLossBackward>)\n",
            "epoch 99, loss 0.18510283529758453\n"
          ]
        }
      ]
    },
    {
      "cell_type": "code",
      "metadata": {
        "id": "BTpq6tQvYKs8",
        "colab": {
          "base_uri": "https://localhost:8080/",
          "height": 465
        },
        "outputId": "3b8f68de-906c-4c26-aaa1-40679e61d60d"
      },
      "source": [
        "with torch.no_grad(): # we don't need gradients in the testing phase\n",
        "    if torch.cuda.is_available():\n",
        "        predicted = model(Variable(torch.from_numpy(x_train).cuda())).cpu().data.numpy()\n",
        "    else:\n",
        "        predicted = model(Variable(torch.from_numpy(x_train))).data.numpy()\n",
        "    print(predicted)\n",
        "\n",
        "plt.clf()\n",
        "plt.plot(x_train, y_train, 'go', label='True data', alpha=0.5)\n",
        "plt.plot(x_train, predicted, '--', label='Predictions', alpha=0.5)\n",
        "plt.legend(loc='best')\n",
        "plt.show()"
      ],
      "execution_count": 34,
      "outputs": [
        {
          "output_type": "stream",
          "name": "stdout",
          "text": [
            "[[ 0.19967417]\n",
            " [ 2.3149283 ]\n",
            " [ 4.4301825 ]\n",
            " [ 6.5454364 ]\n",
            " [ 8.660691  ]\n",
            " [10.775946  ]\n",
            " [12.891199  ]\n",
            " [15.0064535 ]\n",
            " [17.121708  ]\n",
            " [19.236961  ]\n",
            " [21.352217  ]]\n"
          ]
        },
        {
          "output_type": "display_data",
          "data": {
            "image/png": "[encoded data removed]",
            "text/plain": [
              "<Figure size 432x288 with 1 Axes>"
            ]
          },
          "metadata": {
            "needs_background": "light"
          }
        }
      ]
    }
  ]
}